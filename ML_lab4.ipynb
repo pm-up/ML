{
  "nbformat": 4,
  "nbformat_minor": 0,
  "metadata": {
    "colab": {
      "provenance": []
    },
    "kernelspec": {
      "name": "python3",
      "display_name": "Python 3"
    },
    "language_info": {
      "name": "python"
    }
  },
  "cells": [
    {
      "cell_type": "markdown",
      "source": [
        "**Лабораторная работа №4**\n",
        "\n",
        "***Задание:***\n",
        "\n",
        "1) Найти оптимум тестовых функций для оптимизации с помощью Optuna\n",
        "\n",
        "2) Осуществить подбор параметров модели классификации с помощью Optuna"
      ],
      "metadata": {
        "id": "VSDlAHwcieF0"
      }
    },
    {
      "cell_type": "markdown",
      "source": [
        "Импортируем библиотеки"
      ],
      "metadata": {
        "id": "LUS9RjZeza-b"
      }
    },
    {
      "cell_type": "code",
      "execution_count": 1,
      "metadata": {
        "colab": {
          "base_uri": "https://localhost:8080/"
        },
        "id": "4ofjOPtyzIzA",
        "outputId": "b7faf199-6040-4e43-f932-4fe4dd4c255f"
      },
      "outputs": [
        {
          "output_type": "stream",
          "name": "stdout",
          "text": [
            "Looking in indexes: https://pypi.org/simple, https://us-python.pkg.dev/colab-wheels/public/simple/\n",
            "Collecting optuna\n",
            "  Downloading optuna-3.0.5-py3-none-any.whl (348 kB)\n",
            "\u001b[K     |████████████████████████████████| 348 kB 4.2 MB/s \n",
            "\u001b[?25hCollecting importlib-metadata<5.0.0\n",
            "  Downloading importlib_metadata-4.13.0-py3-none-any.whl (23 kB)\n",
            "Collecting cmaes>=0.8.2\n",
            "  Downloading cmaes-0.9.0-py3-none-any.whl (23 kB)\n",
            "Requirement already satisfied: numpy in /usr/local/lib/python3.8/dist-packages (from optuna) (1.21.6)\n",
            "Requirement already satisfied: scipy<1.9.0,>=1.7.0 in /usr/local/lib/python3.8/dist-packages (from optuna) (1.7.3)\n",
            "Requirement already satisfied: sqlalchemy>=1.3.0 in /usr/local/lib/python3.8/dist-packages (from optuna) (1.4.45)\n",
            "Requirement already satisfied: PyYAML in /usr/local/lib/python3.8/dist-packages (from optuna) (6.0)\n",
            "Collecting alembic>=1.5.0\n",
            "  Downloading alembic-1.9.1-py3-none-any.whl (210 kB)\n",
            "\u001b[K     |████████████████████████████████| 210 kB 54.9 MB/s \n",
            "\u001b[?25hCollecting colorlog\n",
            "  Downloading colorlog-6.7.0-py2.py3-none-any.whl (11 kB)\n",
            "Requirement already satisfied: tqdm in /usr/local/lib/python3.8/dist-packages (from optuna) (4.64.1)\n",
            "Collecting cliff\n",
            "  Downloading cliff-4.1.0-py3-none-any.whl (81 kB)\n",
            "\u001b[K     |████████████████████████████████| 81 kB 8.9 MB/s \n",
            "\u001b[?25hRequirement already satisfied: packaging>=20.0 in /usr/local/lib/python3.8/dist-packages (from optuna) (21.3)\n",
            "Collecting Mako\n",
            "  Downloading Mako-1.2.4-py3-none-any.whl (78 kB)\n",
            "\u001b[K     |████████████████████████████████| 78 kB 6.9 MB/s \n",
            "\u001b[?25hRequirement already satisfied: importlib-resources in /usr/local/lib/python3.8/dist-packages (from alembic>=1.5.0->optuna) (5.10.1)\n",
            "Requirement already satisfied: zipp>=0.5 in /usr/local/lib/python3.8/dist-packages (from importlib-metadata<5.0.0->optuna) (3.11.0)\n",
            "Requirement already satisfied: pyparsing!=3.0.5,>=2.0.2 in /usr/local/lib/python3.8/dist-packages (from packaging>=20.0->optuna) (3.0.9)\n",
            "Requirement already satisfied: greenlet!=0.4.17 in /usr/local/lib/python3.8/dist-packages (from sqlalchemy>=1.3.0->optuna) (2.0.1)\n",
            "Requirement already satisfied: PrettyTable>=0.7.2 in /usr/local/lib/python3.8/dist-packages (from cliff->optuna) (3.5.0)\n",
            "Collecting autopage>=0.4.0\n",
            "  Downloading autopage-0.5.1-py3-none-any.whl (29 kB)\n",
            "Collecting stevedore>=2.0.1\n",
            "  Downloading stevedore-4.1.1-py3-none-any.whl (50 kB)\n",
            "\u001b[K     |████████████████████████████████| 50 kB 5.6 MB/s \n",
            "\u001b[?25hCollecting cmd2>=1.0.0\n",
            "  Downloading cmd2-2.4.2-py3-none-any.whl (147 kB)\n",
            "\u001b[K     |████████████████████████████████| 147 kB 52.6 MB/s \n",
            "\u001b[?25hCollecting pyperclip>=1.6\n",
            "  Downloading pyperclip-1.8.2.tar.gz (20 kB)\n",
            "Requirement already satisfied: attrs>=16.3.0 in /usr/local/lib/python3.8/dist-packages (from cmd2>=1.0.0->cliff->optuna) (22.1.0)\n",
            "Requirement already satisfied: wcwidth>=0.1.7 in /usr/local/lib/python3.8/dist-packages (from cmd2>=1.0.0->cliff->optuna) (0.2.5)\n",
            "Collecting pbr!=2.1.0,>=2.0.0\n",
            "  Downloading pbr-5.11.0-py2.py3-none-any.whl (112 kB)\n",
            "\u001b[K     |████████████████████████████████| 112 kB 49.7 MB/s \n",
            "\u001b[?25hRequirement already satisfied: MarkupSafe>=0.9.2 in /usr/local/lib/python3.8/dist-packages (from Mako->alembic>=1.5.0->optuna) (2.0.1)\n",
            "Building wheels for collected packages: pyperclip\n",
            "  Building wheel for pyperclip (setup.py) ... \u001b[?25l\u001b[?25hdone\n",
            "  Created wheel for pyperclip: filename=pyperclip-1.8.2-py3-none-any.whl size=11136 sha256=046ee830d3a9e7eec72c7c18f6ffb971f5772f53310cd0c89699f18901862c8a\n",
            "  Stored in directory: /root/.cache/pip/wheels/7f/1a/65/84ff8c386bec21fca6d220ea1f5498a0367883a78dd5ba6122\n",
            "Successfully built pyperclip\n",
            "Installing collected packages: pyperclip, pbr, stevedore, Mako, importlib-metadata, cmd2, autopage, colorlog, cmaes, cliff, alembic, optuna\n",
            "  Attempting uninstall: importlib-metadata\n",
            "    Found existing installation: importlib-metadata 5.1.0\n",
            "    Uninstalling importlib-metadata-5.1.0:\n",
            "      Successfully uninstalled importlib-metadata-5.1.0\n",
            "Successfully installed Mako-1.2.4 alembic-1.9.1 autopage-0.5.1 cliff-4.1.0 cmaes-0.9.0 cmd2-2.4.2 colorlog-6.7.0 importlib-metadata-4.13.0 optuna-3.0.5 pbr-5.11.0 pyperclip-1.8.2 stevedore-4.1.1\n"
          ]
        }
      ],
      "source": [
        "!pip install optuna\n",
        "import optuna\n",
        "import numpy as np\n",
        "import logging\n",
        "import sys\n",
        "import sklearn.datasets\n",
        "import sklearn.linear_model\n",
        "import sklearn.model_selection"
      ]
    },
    {
      "cell_type": "markdown",
      "source": [
        "**Функция Химмельблау**"
      ],
      "metadata": {
        "id": "BPbEqBvlzeqJ"
      }
    },
    {
      "cell_type": "code",
      "source": [
        "def Himmelblau(x: np.float32, y: np.float32) -> np.float64:\n",
        "    '''\n",
        "    Функция Химмельблау\n",
        "    \n",
        "    Args:\n",
        "        x(np.ndarray): Аргумент 1\n",
        "        y(np.ndarray): Аргумент 2\n",
        "        \n",
        "    Returns:\n",
        "        np.float64: Результат функции\n",
        "    '''\n",
        "    return np.square(np.square(x)+y-11)+np.square(x+np.square(y)-7);\n",
        "\n",
        "def objective(trial):\n",
        "    x = trial.suggest_float(\"x\", -10, 10)\n",
        "    y = trial.suggest_float(\"y\", -10, 10)\n",
        "    return Himmelblau(x, y)"
      ],
      "metadata": {
        "id": "KM2KDcwUzie1"
      },
      "execution_count": 3,
      "outputs": []
    },
    {
      "cell_type": "code",
      "source": [
        "study = optuna.create_study()\n",
        "study.optimize(objective, n_trials=100)"
      ],
      "metadata": {
        "colab": {
          "base_uri": "https://localhost:8080/"
        },
        "id": "w1EqsqDbzwU-",
        "outputId": "28559697-5a4d-482a-ed9d-a7b173f48613"
      },
      "execution_count": 4,
      "outputs": [
        {
          "output_type": "stream",
          "name": "stderr",
          "text": [
            "\u001b[32m[I 2022-12-30 10:22:43,597]\u001b[0m A new study created in memory with name: no-name-fbc7e1ed-f170-43a6-adeb-0e6c6ca17c9b\u001b[0m\n",
            "\u001b[32m[I 2022-12-30 10:22:43,604]\u001b[0m Trial 0 finished with value: 213.6552789442453 and parameters: {'x': 4.39375014967964, 'y': 3.3754697090361496}. Best is trial 0 with value: 213.6552789442453.\u001b[0m\n",
            "\u001b[32m[I 2022-12-30 10:22:43,612]\u001b[0m Trial 1 finished with value: 2588.170458484471 and parameters: {'x': 7.424608794634281, 'y': -5.7415542336312715}. Best is trial 0 with value: 213.6552789442453.\u001b[0m\n",
            "\u001b[32m[I 2022-12-30 10:22:43,619]\u001b[0m Trial 2 finished with value: 1221.1382142766913 and parameters: {'x': -1.338074074274818, 'y': 6.571387602460259}. Best is trial 0 with value: 213.6552789442453.\u001b[0m\n",
            "\u001b[32m[I 2022-12-30 10:22:43,622]\u001b[0m Trial 3 finished with value: 93.05701477742565 and parameters: {'x': 2.282721307986124, 'y': 3.761430132855308}. Best is trial 3 with value: 93.05701477742565.\u001b[0m\n",
            "\u001b[32m[I 2022-12-30 10:22:43,626]\u001b[0m Trial 4 finished with value: 112.1400226505233 and parameters: {'x': -4.170410390407351, 'y': -1.3610160650231133}. Best is trial 3 with value: 93.05701477742565.\u001b[0m\n",
            "\u001b[32m[I 2022-12-30 10:22:43,629]\u001b[0m Trial 5 finished with value: 557.0779399843329 and parameters: {'x': 5.484685478372274, 'y': 3.0966993263568927}. Best is trial 3 with value: 93.05701477742565.\u001b[0m\n",
            "\u001b[32m[I 2022-12-30 10:22:43,633]\u001b[0m Trial 6 finished with value: 27.65804813982197 and parameters: {'x': -4.434406636515109, 'y': -3.4079393756946974}. Best is trial 6 with value: 27.65804813982197.\u001b[0m\n",
            "\u001b[32m[I 2022-12-30 10:22:43,636]\u001b[0m Trial 7 finished with value: 2789.8438593020255 and parameters: {'x': 5.978169413210461, 'y': 6.598520055493019}. Best is trial 6 with value: 27.65804813982197.\u001b[0m\n",
            "\u001b[32m[I 2022-12-30 10:22:43,639]\u001b[0m Trial 8 finished with value: 11417.360112992976 and parameters: {'x': 9.41948451554007, 'y': 7.846613495808111}. Best is trial 6 with value: 27.65804813982197.\u001b[0m\n",
            "\u001b[32m[I 2022-12-30 10:22:43,643]\u001b[0m Trial 9 finished with value: 193.92242314488237 and parameters: {'x': -3.0905388945722194, 'y': -4.749800865100051}. Best is trial 6 with value: 27.65804813982197.\u001b[0m\n",
            "\u001b[32m[I 2022-12-30 10:22:43,663]\u001b[0m Trial 10 finished with value: 8715.21322266243 and parameters: {'x': -8.32495954709948, 'y': -9.749852137691096}. Best is trial 6 with value: 27.65804813982197.\u001b[0m\n",
            "\u001b[32m[I 2022-12-30 10:22:43,674]\u001b[0m Trial 11 finished with value: 141.88567411700353 and parameters: {'x': 1.0569530431966059, 'y': -0.7269537463260496}. Best is trial 6 with value: 27.65804813982197.\u001b[0m\n",
            "\u001b[32m[I 2022-12-30 10:22:43,685]\u001b[0m Trial 12 finished with value: 3246.336165857707 and parameters: {'x': -8.05428739198879, 'y': 2.1098382547537993}. Best is trial 6 with value: 27.65804813982197.\u001b[0m\n",
            "\u001b[32m[I 2022-12-30 10:22:43,698]\u001b[0m Trial 13 finished with value: 156.1396679274554 and parameters: {'x': 2.1140438345750567, 'y': -3.5104428928314397}. Best is trial 6 with value: 27.65804813982197.\u001b[0m\n",
            "\u001b[32m[I 2022-12-30 10:22:43,709]\u001b[0m Trial 14 finished with value: 7630.766547796061 and parameters: {'x': -4.875968814921462, 'y': 9.811206550711997}. Best is trial 6 with value: 27.65804813982197.\u001b[0m\n",
            "\u001b[32m[I 2022-12-30 10:22:43,721]\u001b[0m Trial 15 finished with value: 6629.0473418036345 and parameters: {'x': -0.42351738439959263, 'y': -9.290828936317991}. Best is trial 6 with value: 27.65804813982197.\u001b[0m\n",
            "\u001b[32m[I 2022-12-30 10:22:43,732]\u001b[0m Trial 16 finished with value: 897.7719868010631 and parameters: {'x': -6.115126503362864, 'y': 1.1414086654525373}. Best is trial 6 with value: 27.65804813982197.\u001b[0m\n",
            "\u001b[32m[I 2022-12-30 10:22:43,743]\u001b[0m Trial 17 finished with value: 87.62611438432187 and parameters: {'x': -2.13504144366149, 'y': -2.568057356391739}. Best is trial 6 with value: 27.65804813982197.\u001b[0m\n",
            "\u001b[32m[I 2022-12-30 10:22:43,753]\u001b[0m Trial 18 finished with value: 964.7988479144908 and parameters: {'x': -2.4438512133521764, 'y': -6.197251457235236}. Best is trial 6 with value: 27.65804813982197.\u001b[0m\n",
            "\u001b[32m[I 2022-12-30 10:22:43,764]\u001b[0m Trial 19 finished with value: 586.6319898471608 and parameters: {'x': -6.194452983391267, 'y': -3.2761464612824183}. Best is trial 6 with value: 27.65804813982197.\u001b[0m\n",
            "\u001b[32m[I 2022-12-30 10:22:43,778]\u001b[0m Trial 20 finished with value: 7326.279165359524 and parameters: {'x': -9.542460599467598, 'y': -7.911909018916543}. Best is trial 6 with value: 27.65804813982197.\u001b[0m\n",
            "\u001b[32m[I 2022-12-30 10:22:43,791]\u001b[0m Trial 21 finished with value: 15.467871637031223 and parameters: {'x': 3.310768128280687, 'y': -2.5745508848490806}. Best is trial 21 with value: 15.467871637031223.\u001b[0m\n",
            "\u001b[32m[I 2022-12-30 10:22:43,813]\u001b[0m Trial 22 finished with value: 15.97026669460385 and parameters: {'x': 3.198330071186242, 'y': -2.4761860781787974}. Best is trial 21 with value: 15.467871637031223.\u001b[0m\n",
            "\u001b[32m[I 2022-12-30 10:22:43,829]\u001b[0m Trial 23 finished with value: 19.99779346035551 and parameters: {'x': 3.765163591209115, 'y': -0.08180398927092868}. Best is trial 21 with value: 15.467871637031223.\u001b[0m\n",
            "\u001b[32m[I 2022-12-30 10:22:43,842]\u001b[0m Trial 24 finished with value: 10.066480601034971 and parameters: {'x': 3.3791675422115106, 'y': 0.8422808841571254}. Best is trial 24 with value: 10.066480601034971.\u001b[0m\n",
            "\u001b[32m[I 2022-12-30 10:22:43,858]\u001b[0m Trial 25 finished with value: 26.985508811373553 and parameters: {'x': 2.515487679004253, 'y': 0.935774075001615}. Best is trial 24 with value: 10.066480601034971.\u001b[0m\n",
            "\u001b[32m[I 2022-12-30 10:22:43,870]\u001b[0m Trial 26 finished with value: 2252.9234958361462 and parameters: {'x': 7.751373779303707, 'y': -1.7813528814575472}. Best is trial 24 with value: 10.066480601034971.\u001b[0m\n",
            "\u001b[32m[I 2022-12-30 10:22:43,882]\u001b[0m Trial 27 finished with value: 528.8308676382106 and parameters: {'x': 0.550310301891022, 'y': -4.837902511412597}. Best is trial 24 with value: 10.066480601034971.\u001b[0m\n",
            "\u001b[32m[I 2022-12-30 10:22:43,898]\u001b[0m Trial 28 finished with value: 372.6908318592074 and parameters: {'x': 3.9421486158011954, 'y': 4.48585310722201}. Best is trial 24 with value: 10.066480601034971.\u001b[0m\n",
            "\u001b[32m[I 2022-12-30 10:22:43,916]\u001b[0m Trial 29 finished with value: 2449.358382866643 and parameters: {'x': 5.638780804532736, 'y': -6.992008573616539}. Best is trial 24 with value: 10.066480601034971.\u001b[0m\n",
            "\u001b[32m[I 2022-12-30 10:22:43,929]\u001b[0m Trial 30 finished with value: 14.308715054398785 and parameters: {'x': 3.5305456301854607, 'y': 0.46442013423895556}. Best is trial 24 with value: 10.066480601034971.\u001b[0m\n",
            "\u001b[32m[I 2022-12-30 10:22:43,947]\u001b[0m Trial 31 finished with value: 11.645686411006608 and parameters: {'x': 3.4734724794157277, 'y': -0.41908981549492674}. Best is trial 24 with value: 10.066480601034971.\u001b[0m\n",
            "\u001b[32m[I 2022-12-30 10:22:43,963]\u001b[0m Trial 32 finished with value: 161.0795497911748 and parameters: {'x': 4.759376931173521, 'y': 0.9741439590576515}. Best is trial 24 with value: 10.066480601034971.\u001b[0m\n",
            "\u001b[32m[I 2022-12-30 10:22:43,976]\u001b[0m Trial 33 finished with value: 56.24683784796904 and parameters: {'x': 1.2020089338177007, 'y': 2.1488592663290396}. Best is trial 24 with value: 10.066480601034971.\u001b[0m\n",
            "\u001b[32m[I 2022-12-30 10:22:43,989]\u001b[0m Trial 34 finished with value: 1704.8841411141582 and parameters: {'x': 7.249388324824411, 'y': -0.2646238820413029}. Best is trial 24 with value: 10.066480601034971.\u001b[0m\n",
            "\u001b[32m[I 2022-12-30 10:22:44,001]\u001b[0m Trial 35 finished with value: 252.3314300444627 and parameters: {'x': -0.529795463226006, 'y': 4.715556219092604}. Best is trial 24 with value: 10.066480601034971.\u001b[0m\n",
            "\u001b[32m[I 2022-12-30 10:22:44,013]\u001b[0m Trial 36 finished with value: 1567.7192139434856 and parameters: {'x': 7.202525453255143, 'y': -1.3312088354756217}. Best is trial 24 with value: 10.066480601034971.\u001b[0m\n",
            "\u001b[32m[I 2022-12-30 10:22:44,035]\u001b[0m Trial 37 finished with value: 28.98110215326422 and parameters: {'x': 1.8179173199797076, 'y': 2.6641791622782214}. Best is trial 24 with value: 10.066480601034971.\u001b[0m\n",
            "\u001b[32m[I 2022-12-30 10:22:44,058]\u001b[0m Trial 38 finished with value: 188.72845866270873 and parameters: {'x': 4.853179858780448, 'y': 1.1612821606882822}. Best is trial 24 with value: 10.066480601034971.\u001b[0m\n",
            "\u001b[32m[I 2022-12-30 10:22:44,071]\u001b[0m Trial 39 finished with value: 143.4519889218681 and parameters: {'x': 3.4897785144973748, 'y': 3.795481196162047}. Best is trial 24 with value: 10.066480601034971.\u001b[0m\n",
            "\u001b[32m[I 2022-12-30 10:22:44,087]\u001b[0m Trial 40 finished with value: 2530.074664599925 and parameters: {'x': 6.507255765915536, 'y': 5.860344882744551}. Best is trial 24 with value: 10.066480601034971.\u001b[0m\n",
            "\u001b[32m[I 2022-12-30 10:22:44,099]\u001b[0m Trial 41 finished with value: 9.361731094582511 and parameters: {'x': 3.311467823835134, 'y': -2.364026233877578}. Best is trial 41 with value: 9.361731094582511.\u001b[0m\n",
            "\u001b[32m[I 2022-12-30 10:22:44,115]\u001b[0m Trial 42 finished with value: 3765.4924933949255 and parameters: {'x': 8.550181530358492, 'y': -4.393328389178761}. Best is trial 41 with value: 9.361731094582511.\u001b[0m\n",
            "\u001b[32m[I 2022-12-30 10:22:44,132]\u001b[0m Trial 43 finished with value: 44.50314631639581 and parameters: {'x': 2.495994518149147, 'y': -1.7174161239325767}. Best is trial 41 with value: 9.361731094582511.\u001b[0m\n",
            "\u001b[32m[I 2022-12-30 10:22:44,147]\u001b[0m Trial 44 finished with value: 50.86497224742225 and parameters: {'x': 4.36393043176946, 'y': -1.0696920735573174}. Best is trial 41 with value: 9.361731094582511.\u001b[0m\n",
            "\u001b[32m[I 2022-12-30 10:22:44,160]\u001b[0m Trial 45 finished with value: 342.5273140298988 and parameters: {'x': 5.392649708991986, 'y': 0.3682098924132302}. Best is trial 41 with value: 9.361731094582511.\u001b[0m\n",
            "\u001b[32m[I 2022-12-30 10:22:44,174]\u001b[0m Trial 46 finished with value: 178.41125728964357 and parameters: {'x': 0.4430912993414471, 'y': -2.553345408956918}. Best is trial 41 with value: 9.361731094582511.\u001b[0m\n",
            "\u001b[32m[I 2022-12-30 10:22:44,189]\u001b[0m Trial 47 finished with value: 171.90790659407892 and parameters: {'x': 2.994861788516665, 'y': -3.9583659488116325}. Best is trial 41 with value: 9.361731094582511.\u001b[0m\n",
            "\u001b[32m[I 2022-12-30 10:22:44,202]\u001b[0m Trial 48 finished with value: 101.79666627354555 and parameters: {'x': 1.6393601952965045, 'y': -0.28566884156500605}. Best is trial 41 with value: 9.361731094582511.\u001b[0m\n",
            "\u001b[32m[I 2022-12-30 10:22:44,215]\u001b[0m Trial 49 finished with value: 148.9558890430829 and parameters: {'x': 4.611811553628314, 'y': 1.8814754519493582}. Best is trial 41 with value: 9.361731094582511.\u001b[0m\n",
            "\u001b[32m[I 2022-12-30 10:22:44,229]\u001b[0m Trial 50 finished with value: 704.5872210324214 and parameters: {'x': 6.280084597751335, 'y': -2.262282308434847}. Best is trial 41 with value: 9.361731094582511.\u001b[0m\n",
            "\u001b[32m[I 2022-12-30 10:22:44,243]\u001b[0m Trial 51 finished with value: 648.035424355577 and parameters: {'x': 3.347056724202175, 'y': -5.346439467449572}. Best is trial 41 with value: 9.361731094582511.\u001b[0m\n",
            "\u001b[32m[I 2022-12-30 10:22:44,257]\u001b[0m Trial 52 finished with value: 94.47264638178875 and parameters: {'x': 2.9200693250675207, 'y': -3.4348165040286758}. Best is trial 41 with value: 9.361731094582511.\u001b[0m\n",
            "\u001b[32m[I 2022-12-30 10:22:44,273]\u001b[0m Trial 53 finished with value: 131.43135764401896 and parameters: {'x': 1.248238194680777, 'y': -0.9199185732913611}. Best is trial 41 with value: 9.361731094582511.\u001b[0m\n",
            "\u001b[32m[I 2022-12-30 10:22:44,288]\u001b[0m Trial 54 finished with value: 172.48326263149363 and parameters: {'x': -0.6207427601524365, 'y': -2.34963756718962}. Best is trial 41 with value: 9.361731094582511.\u001b[0m\n",
            "\u001b[32m[I 2022-12-30 10:22:44,301]\u001b[0m Trial 55 finished with value: 43.08658707926667 and parameters: {'x': 4.042179375099122, 'y': -3.0161278483826655}. Best is trial 41 with value: 9.361731094582511.\u001b[0m\n",
            "\u001b[32m[I 2022-12-30 10:22:44,313]\u001b[0m Trial 56 finished with value: 52.130486741186154 and parameters: {'x': 2.2186125122880536, 'y': 0.47577455593492246}. Best is trial 41 with value: 9.361731094582511.\u001b[0m\n",
            "\u001b[32m[I 2022-12-30 10:22:44,325]\u001b[0m Trial 57 finished with value: 161.99987778972343 and parameters: {'x': -1.2772302805993032, 'y': -0.7107902403093442}. Best is trial 41 with value: 9.361731094582511.\u001b[0m\n",
            "\u001b[32m[I 2022-12-30 10:22:44,341]\u001b[0m Trial 58 finished with value: 298.39394932153635 and parameters: {'x': 5.173156822438263, 'y': 1.5068322967901544}. Best is trial 41 with value: 9.361731094582511.\u001b[0m\n",
            "\u001b[32m[I 2022-12-30 10:22:44,354]\u001b[0m Trial 59 finished with value: 69.0371284589525 and parameters: {'x': 0.556052610159496, 'y': 3.1525305062221856}. Best is trial 41 with value: 9.361731094582511.\u001b[0m\n",
            "\u001b[32m[I 2022-12-30 10:22:44,367]\u001b[0m Trial 60 finished with value: 12.9498550958245 and parameters: {'x': 3.050597734284103, 'y': -1.8812853547508297}. Best is trial 41 with value: 9.361731094582511.\u001b[0m\n",
            "\u001b[32m[I 2022-12-30 10:22:44,385]\u001b[0m Trial 61 finished with value: 10.354818539044642 and parameters: {'x': 3.116768805951447, 'y': -1.5177879602072069}. Best is trial 41 with value: 9.361731094582511.\u001b[0m\n",
            "\u001b[32m[I 2022-12-30 10:22:44,399]\u001b[0m Trial 62 finished with value: 25.805056331248128 and parameters: {'x': 4.192589447174663, 'y': -1.521780926869492}. Best is trial 41 with value: 9.361731094582511.\u001b[0m\n",
            "\u001b[32m[I 2022-12-30 10:22:44,412]\u001b[0m Trial 63 finished with value: 24.357956737992517 and parameters: {'x': 2.836176863532898, 'y': 0.22710850697612606}. Best is trial 41 with value: 9.361731094582511.\u001b[0m\n",
            "\u001b[32m[I 2022-12-30 10:22:44,424]\u001b[0m Trial 64 finished with value: 226.2734538997891 and parameters: {'x': 1.952889662212049, 'y': -3.9004692068132574}. Best is trial 41 with value: 9.361731094582511.\u001b[0m\n",
            "\u001b[32m[I 2022-12-30 10:22:44,436]\u001b[0m Trial 65 finished with value: 13.763726816240752 and parameters: {'x': 3.6357601287948618, 'y': -0.3782073732697693}. Best is trial 41 with value: 9.361731094582511.\u001b[0m\n",
            "\u001b[32m[I 2022-12-30 10:22:44,451]\u001b[0m Trial 66 finished with value: 554.3179668693409 and parameters: {'x': 5.923249229778727, 'y': -0.5535296090789237}. Best is trial 41 with value: 9.361731094582511.\u001b[0m\n",
            "\u001b[32m[I 2022-12-30 10:22:44,466]\u001b[0m Trial 67 finished with value: 12.76216600151333 and parameters: {'x': 3.505304349500828, 'y': 0.7469497746640137}. Best is trial 41 with value: 9.361731094582511.\u001b[0m\n",
            "\u001b[32m[I 2022-12-30 10:22:44,479]\u001b[0m Trial 68 finished with value: 125.14175783663184 and parameters: {'x': 1.392421467768464, 'y': -2.0217589830097786}. Best is trial 41 with value: 9.361731094582511.\u001b[0m\n",
            "\u001b[32m[I 2022-12-30 10:22:44,494]\u001b[0m Trial 69 finished with value: 8.384359913553205 and parameters: {'x': 2.4744556738106898, 'y': 2.4798466073702516}. Best is trial 69 with value: 8.384359913553205.\u001b[0m\n",
            "\u001b[32m[I 2022-12-30 10:22:44,508]\u001b[0m Trial 70 finished with value: 68.15559064289656 and parameters: {'x': 0.23893295791375335, 'y': 2.7066020023329456}. Best is trial 69 with value: 8.384359913553205.\u001b[0m\n",
            "\u001b[32m[I 2022-12-30 10:22:44,523]\u001b[0m Trial 71 finished with value: 12.81034183353889 and parameters: {'x': 2.6391671877155396, 'y': 1.3944391679980968}. Best is trial 69 with value: 8.384359913553205.\u001b[0m\n",
            "\u001b[32m[I 2022-12-30 10:22:44,534]\u001b[0m Trial 72 finished with value: 7.810671480096079 and parameters: {'x': 2.4496894311784305, 'y': 2.269754648016085}. Best is trial 72 with value: 7.810671480096079.\u001b[0m\n",
            "\u001b[32m[I 2022-12-30 10:22:44,547]\u001b[0m Trial 73 finished with value: 127.22466945975393 and parameters: {'x': 2.069720036999291, 'y': 3.9841929322995293}. Best is trial 72 with value: 7.810671480096079.\u001b[0m\n",
            "\u001b[32m[I 2022-12-30 10:22:44,559]\u001b[0m Trial 74 finished with value: 8.249679514245644 and parameters: {'x': 2.482763432425435, 'y': 2.482788221724466}. Best is trial 72 with value: 7.810671480096079.\u001b[0m\n",
            "\u001b[32m[I 2022-12-30 10:22:44,571]\u001b[0m Trial 75 finished with value: 55.06472308560845 and parameters: {'x': 1.0773219263577571, 'y': 2.41915048439376}. Best is trial 72 with value: 7.810671480096079.\u001b[0m\n",
            "\u001b[32m[I 2022-12-30 10:22:44,583]\u001b[0m Trial 76 finished with value: 753.6528474182135 and parameters: {'x': 4.891975069635941, 'y': 4.8025177448903715}. Best is trial 72 with value: 7.810671480096079.\u001b[0m\n",
            "\u001b[32m[I 2022-12-30 10:22:44,595]\u001b[0m Trial 77 finished with value: 49.90061860479366 and parameters: {'x': 4.036296649255321, 'y': 1.7702947001619047}. Best is trial 72 with value: 7.810671480096079.\u001b[0m\n",
            "\u001b[32m[I 2022-12-30 10:22:44,606]\u001b[0m Trial 78 finished with value: 66.9938965144665 and parameters: {'x': 1.6964689286019023, 'y': 3.4695333407599667}. Best is trial 72 with value: 7.810671480096079.\u001b[0m\n",
            "\u001b[32m[I 2022-12-30 10:22:44,620]\u001b[0m Trial 79 finished with value: 20.934814680225127 and parameters: {'x': 2.3839461501480663, 'y': 2.9175315695411457}. Best is trial 72 with value: 7.810671480096079.\u001b[0m\n",
            "\u001b[32m[I 2022-12-30 10:22:44,631]\u001b[0m Trial 80 finished with value: 2492.1187268182275 and parameters: {'x': 6.753630956902814, 'y': 5.476859117037838}. Best is trial 72 with value: 7.810671480096079.\u001b[0m\n",
            "\u001b[32m[I 2022-12-30 10:22:44,642]\u001b[0m Trial 81 finished with value: 14.857429733337863 and parameters: {'x': 2.6201876393168475, 'y': 1.3210526629598132}. Best is trial 72 with value: 7.810671480096079.\u001b[0m\n",
            "\u001b[32m[I 2022-12-30 10:22:44,659]\u001b[0m Trial 82 finished with value: 121.38218403645075 and parameters: {'x': 0.856263030097435, 'y': 0.7594211547148745}. Best is trial 72 with value: 7.810671480096079.\u001b[0m\n",
            "\u001b[32m[I 2022-12-30 10:22:44,678]\u001b[0m Trial 83 finished with value: 88.06629166491831 and parameters: {'x': -0.10489993512888862, 'y': 2.056328717082558}. Best is trial 72 with value: 7.810671480096079.\u001b[0m\n",
            "\u001b[32m[I 2022-12-30 10:22:44,692]\u001b[0m Trial 84 finished with value: 78.35934705527951 and parameters: {'x': 4.401830206284668, 'y': 0.08849313959563099}. Best is trial 72 with value: 7.810671480096079.\u001b[0m\n",
            "\u001b[32m[I 2022-12-30 10:22:44,709]\u001b[0m Trial 85 finished with value: 236.35032246030534 and parameters: {'x': 3.5442541788942075, 'y': 4.207819728075846}. Best is trial 72 with value: 7.810671480096079.\u001b[0m\n",
            "\u001b[32m[I 2022-12-30 10:22:44,725]\u001b[0m Trial 86 finished with value: 21.66940149965496 and parameters: {'x': 2.607143768157803, 'y': 1.0050039640337662}. Best is trial 72 with value: 7.810671480096079.\u001b[0m\n",
            "\u001b[32m[I 2022-12-30 10:22:44,738]\u001b[0m Trial 87 finished with value: 419.8521308342439 and parameters: {'x': 5.088918207784256, 'y': 3.3511985664715818}. Best is trial 72 with value: 7.810671480096079.\u001b[0m\n",
            "\u001b[32m[I 2022-12-30 10:22:44,753]\u001b[0m Trial 88 finished with value: 3108.597472203418 and parameters: {'x': 3.1681556180937376, 'y': 7.6927870558349465}. Best is trial 72 with value: 7.810671480096079.\u001b[0m\n",
            "\u001b[32m[I 2022-12-30 10:22:44,766]\u001b[0m Trial 89 finished with value: 37.78670344082008 and parameters: {'x': 3.816352606707696, 'y': 2.265474910807314}. Best is trial 72 with value: 7.810671480096079.\u001b[0m\n",
            "\u001b[32m[I 2022-12-30 10:22:44,779]\u001b[0m Trial 90 finished with value: 34.96973213621861 and parameters: {'x': 2.068646175376838, 'y': 1.4803019362377878}. Best is trial 72 with value: 7.810671480096079.\u001b[0m\n",
            "\u001b[32m[I 2022-12-30 10:22:44,793]\u001b[0m Trial 91 finished with value: 11.877357473025095 and parameters: {'x': 3.1324066686751313, 'y': -1.159476293329789}. Best is trial 72 with value: 7.810671480096079.\u001b[0m\n",
            "\u001b[32m[I 2022-12-30 10:22:44,806]\u001b[0m Trial 92 finished with value: 113.46584032645654 and parameters: {'x': 1.5290286243348652, 'y': -1.1162577098022761}. Best is trial 72 with value: 7.810671480096079.\u001b[0m\n",
            "\u001b[32m[I 2022-12-30 10:22:44,820]\u001b[0m Trial 93 finished with value: 82.80599429839064 and parameters: {'x': 4.449066870221582, 'y': -0.058289792978656774}. Best is trial 72 with value: 7.810671480096079.\u001b[0m\n",
            "\u001b[32m[I 2022-12-30 10:22:44,837]\u001b[0m Trial 94 finished with value: 462.52118401560256 and parameters: {'x': 5.5620081518840685, 'y': 1.5488867291439696}. Best is trial 72 with value: 7.810671480096079.\u001b[0m\n",
            "\u001b[32m[I 2022-12-30 10:22:44,849]\u001b[0m Trial 95 finished with value: 24.66251489486471 and parameters: {'x': 2.7718625253768296, 'y': 0.43147146348505006}. Best is trial 72 with value: 7.810671480096079.\u001b[0m\n",
            "\u001b[32m[I 2022-12-30 10:22:44,860]\u001b[0m Trial 96 finished with value: 32.389930049642444 and parameters: {'x': 3.3463736105884965, 'y': -2.939574656351906}. Best is trial 72 with value: 7.810671480096079.\u001b[0m\n",
            "\u001b[32m[I 2022-12-30 10:22:44,877]\u001b[0m Trial 97 finished with value: 34.31713007839116 and parameters: {'x': 2.3865296014103103, 'y': 0.8798803064286811}. Best is trial 72 with value: 7.810671480096079.\u001b[0m\n",
            "\u001b[32m[I 2022-12-30 10:22:44,890]\u001b[0m Trial 98 finished with value: 153.9243780111027 and parameters: {'x': 0.8501242812328291, 'y': -1.2847754927453428}. Best is trial 72 with value: 7.810671480096079.\u001b[0m\n",
            "\u001b[32m[I 2022-12-30 10:22:44,903]\u001b[0m Trial 99 finished with value: 18.49982512152256 and parameters: {'x': 3.922624468947019, 'y': -0.8204957744052543}. Best is trial 72 with value: 7.810671480096079.\u001b[0m\n"
          ]
        }
      ]
    },
    {
      "cell_type": "code",
      "source": [
        "best_params = study.best_params\n",
        "found_x = best_params[\"x\"]\n",
        "found_y = best_params[\"y\"]\n",
        "print('f(3, 2) = 0')\n",
        "print('f(-2.805118, 3.131312) = 0')\n",
        "print('f(-3.779310, -3.283186) = 0')\n",
        "print('f(3.584428, -1.848126) = 0')\n",
        "print(f\"Found x: {found_x}, Found y: {found_y}, Result: {Himmelblau(found_x, found_y)}\")"
      ],
      "metadata": {
        "colab": {
          "base_uri": "https://localhost:8080/"
        },
        "id": "IjGF0-o8z3g3",
        "outputId": "affb913d-d61e-477e-f0a0-b03289f5c8fa"
      },
      "execution_count": 5,
      "outputs": [
        {
          "output_type": "stream",
          "name": "stdout",
          "text": [
            "f(3, 2) = 0\n",
            "f(-2.805118, 3.131312) = 0\n",
            "f(-3.779310, -3.283186) = 0\n",
            "f(3.584428, -1.848126) = 0\n",
            "Found x: 2.4496894311784305, Found y: 2.269754648016085, Result: 7.810671480096079\n"
          ]
        }
      ]
    },
    {
      "cell_type": "markdown",
      "source": [
        "**Датасет sklearn (Digits)**"
      ],
      "metadata": {
        "id": "1v8_kTmNz7JT"
      }
    },
    {
      "cell_type": "code",
      "source": [
        "def objective(trial):\n",
        "    digs = sklearn.datasets.load_digits()\n",
        "    classes = list(set(digs.target))\n",
        "    train_x, valid_x, train_y, valid_y = sklearn.model_selection.train_test_split(\n",
        "        digs.data, digs.target, test_size=0.25, random_state=0\n",
        "    )\n",
        "\n",
        "    alpha = trial.suggest_float(\"alpha\", 1e-5, 1e-1, log=True)\n",
        "    clf = sklearn.linear_model.SGDClassifier(alpha=alpha)\n",
        "\n",
        "    for step in range(100):\n",
        "        clf.partial_fit(train_x, train_y, classes=classes)\n",
        "\n",
        "        # Report intermediate objective value.\n",
        "        intermediate_value = 1.0 - clf.score(valid_x, valid_y)\n",
        "        trial.report(intermediate_value, step)\n",
        "\n",
        "        # Handle pruning based on the intermediate value.\n",
        "        if trial.should_prune():\n",
        "            raise optuna.TrialPruned()\n",
        "\n",
        "    return 1.0 - clf.score(valid_x, valid_y)"
      ],
      "metadata": {
        "id": "8VbWn6brz9DU"
      },
      "execution_count": 6,
      "outputs": []
    },
    {
      "cell_type": "code",
      "source": [
        "optuna.logging.get_logger(\"optuna\").addHandler(logging.StreamHandler(sys.stdout))\n",
        "study = optuna.create_study(pruner=optuna.pruners.MedianPruner())\n",
        "study.optimize(objective, n_trials=20)"
      ],
      "metadata": {
        "colab": {
          "base_uri": "https://localhost:8080/"
        },
        "id": "_hUWc8EE0Ls4",
        "outputId": "b24c2062-1e34-4521-8e0f-037d080203ab"
      },
      "execution_count": 7,
      "outputs": [
        {
          "output_type": "stream",
          "name": "stderr",
          "text": [
            "\u001b[32m[I 2022-12-30 10:22:52,548]\u001b[0m A new study created in memory with name: no-name-4df82678-0827-494f-9088-c55728dcbe68\u001b[0m\n"
          ]
        },
        {
          "output_type": "stream",
          "name": "stdout",
          "text": [
            "A new study created in memory with name: no-name-4df82678-0827-494f-9088-c55728dcbe68\n"
          ]
        },
        {
          "output_type": "stream",
          "name": "stderr",
          "text": [
            "\u001b[32m[I 2022-12-30 10:22:53,819]\u001b[0m Trial 0 finished with value: 0.03555555555555556 and parameters: {'alpha': 0.04701264437266902}. Best is trial 0 with value: 0.03555555555555556.\u001b[0m\n"
          ]
        },
        {
          "output_type": "stream",
          "name": "stdout",
          "text": [
            "Trial 0 finished with value: 0.03555555555555556 and parameters: {'alpha': 0.04701264437266902}. Best is trial 0 with value: 0.03555555555555556.\n"
          ]
        },
        {
          "output_type": "stream",
          "name": "stderr",
          "text": [
            "\u001b[32m[I 2022-12-30 10:22:55,083]\u001b[0m Trial 1 finished with value: 0.06444444444444442 and parameters: {'alpha': 0.00045181374077340927}. Best is trial 0 with value: 0.03555555555555556.\u001b[0m\n"
          ]
        },
        {
          "output_type": "stream",
          "name": "stdout",
          "text": [
            "Trial 1 finished with value: 0.06444444444444442 and parameters: {'alpha': 0.00045181374077340927}. Best is trial 0 with value: 0.03555555555555556.\n"
          ]
        },
        {
          "output_type": "stream",
          "name": "stderr",
          "text": [
            "\u001b[32m[I 2022-12-30 10:22:56,333]\u001b[0m Trial 2 finished with value: 0.05555555555555558 and parameters: {'alpha': 0.0002900277422410202}. Best is trial 0 with value: 0.03555555555555556.\u001b[0m\n"
          ]
        },
        {
          "output_type": "stream",
          "name": "stdout",
          "text": [
            "Trial 2 finished with value: 0.05555555555555558 and parameters: {'alpha': 0.0002900277422410202}. Best is trial 0 with value: 0.03555555555555556.\n"
          ]
        },
        {
          "output_type": "stream",
          "name": "stderr",
          "text": [
            "\u001b[32m[I 2022-12-30 10:22:57,667]\u001b[0m Trial 3 finished with value: 0.06666666666666665 and parameters: {'alpha': 3.0683870215007805e-05}. Best is trial 0 with value: 0.03555555555555556.\u001b[0m\n"
          ]
        },
        {
          "output_type": "stream",
          "name": "stdout",
          "text": [
            "Trial 3 finished with value: 0.06666666666666665 and parameters: {'alpha': 3.0683870215007805e-05}. Best is trial 0 with value: 0.03555555555555556.\n"
          ]
        },
        {
          "output_type": "stream",
          "name": "stderr",
          "text": [
            "\u001b[32m[I 2022-12-30 10:22:58,918]\u001b[0m Trial 4 finished with value: 0.05777777777777782 and parameters: {'alpha': 0.0003015026181263784}. Best is trial 0 with value: 0.03555555555555556.\u001b[0m\n"
          ]
        },
        {
          "output_type": "stream",
          "name": "stdout",
          "text": [
            "Trial 4 finished with value: 0.05777777777777782 and parameters: {'alpha': 0.0003015026181263784}. Best is trial 0 with value: 0.03555555555555556.\n"
          ]
        },
        {
          "output_type": "stream",
          "name": "stderr",
          "text": [
            "\u001b[32m[I 2022-12-30 10:22:59,059]\u001b[0m Trial 5 pruned. \u001b[0m\n"
          ]
        },
        {
          "output_type": "stream",
          "name": "stdout",
          "text": [
            "Trial 5 pruned. \n"
          ]
        },
        {
          "output_type": "stream",
          "name": "stderr",
          "text": [
            "\u001b[32m[I 2022-12-30 10:22:59,198]\u001b[0m Trial 6 pruned. \u001b[0m\n"
          ]
        },
        {
          "output_type": "stream",
          "name": "stdout",
          "text": [
            "Trial 6 pruned. \n"
          ]
        },
        {
          "output_type": "stream",
          "name": "stderr",
          "text": [
            "\u001b[32m[I 2022-12-30 10:23:00,503]\u001b[0m Trial 7 finished with value: 0.04888888888888887 and parameters: {'alpha': 0.06433179166765084}. Best is trial 0 with value: 0.03555555555555556.\u001b[0m\n"
          ]
        },
        {
          "output_type": "stream",
          "name": "stdout",
          "text": [
            "Trial 7 finished with value: 0.04888888888888887 and parameters: {'alpha': 0.06433179166765084}. Best is trial 0 with value: 0.03555555555555556.\n"
          ]
        },
        {
          "output_type": "stream",
          "name": "stderr",
          "text": [
            "\u001b[32m[I 2022-12-30 10:23:00,642]\u001b[0m Trial 8 pruned. \u001b[0m\n"
          ]
        },
        {
          "output_type": "stream",
          "name": "stdout",
          "text": [
            "Trial 8 pruned. \n"
          ]
        },
        {
          "output_type": "stream",
          "name": "stderr",
          "text": [
            "\u001b[32m[I 2022-12-30 10:23:00,781]\u001b[0m Trial 9 pruned. \u001b[0m\n"
          ]
        },
        {
          "output_type": "stream",
          "name": "stdout",
          "text": [
            "Trial 9 pruned. \n"
          ]
        },
        {
          "output_type": "stream",
          "name": "stderr",
          "text": [
            "\u001b[32m[I 2022-12-30 10:23:00,923]\u001b[0m Trial 10 pruned. \u001b[0m\n"
          ]
        },
        {
          "output_type": "stream",
          "name": "stdout",
          "text": [
            "Trial 10 pruned. \n"
          ]
        },
        {
          "output_type": "stream",
          "name": "stderr",
          "text": [
            "\u001b[32m[I 2022-12-30 10:23:01,073]\u001b[0m Trial 11 pruned. \u001b[0m\n"
          ]
        },
        {
          "output_type": "stream",
          "name": "stdout",
          "text": [
            "Trial 11 pruned. \n"
          ]
        },
        {
          "output_type": "stream",
          "name": "stderr",
          "text": [
            "\u001b[32m[I 2022-12-30 10:23:01,212]\u001b[0m Trial 12 pruned. \u001b[0m\n"
          ]
        },
        {
          "output_type": "stream",
          "name": "stdout",
          "text": [
            "Trial 12 pruned. \n"
          ]
        },
        {
          "output_type": "stream",
          "name": "stderr",
          "text": [
            "\u001b[32m[I 2022-12-30 10:23:01,420]\u001b[0m Trial 13 pruned. \u001b[0m\n"
          ]
        },
        {
          "output_type": "stream",
          "name": "stdout",
          "text": [
            "Trial 13 pruned. \n"
          ]
        },
        {
          "output_type": "stream",
          "name": "stderr",
          "text": [
            "\u001b[32m[I 2022-12-30 10:23:02,727]\u001b[0m Trial 14 finished with value: 0.05777777777777782 and parameters: {'alpha': 0.0017342796415195125}. Best is trial 0 with value: 0.03555555555555556.\u001b[0m\n"
          ]
        },
        {
          "output_type": "stream",
          "name": "stdout",
          "text": [
            "Trial 14 finished with value: 0.05777777777777782 and parameters: {'alpha': 0.0017342796415195125}. Best is trial 0 with value: 0.03555555555555556.\n"
          ]
        },
        {
          "output_type": "stream",
          "name": "stderr",
          "text": [
            "\u001b[32m[I 2022-12-30 10:23:02,864]\u001b[0m Trial 15 pruned. \u001b[0m\n"
          ]
        },
        {
          "output_type": "stream",
          "name": "stdout",
          "text": [
            "Trial 15 pruned. \n"
          ]
        },
        {
          "output_type": "stream",
          "name": "stderr",
          "text": [
            "\u001b[32m[I 2022-12-30 10:23:03,059]\u001b[0m Trial 16 pruned. \u001b[0m\n"
          ]
        },
        {
          "output_type": "stream",
          "name": "stdout",
          "text": [
            "Trial 16 pruned. \n"
          ]
        },
        {
          "output_type": "stream",
          "name": "stderr",
          "text": [
            "\u001b[32m[I 2022-12-30 10:23:03,206]\u001b[0m Trial 17 pruned. \u001b[0m\n"
          ]
        },
        {
          "output_type": "stream",
          "name": "stdout",
          "text": [
            "Trial 17 pruned. \n"
          ]
        },
        {
          "output_type": "stream",
          "name": "stderr",
          "text": [
            "\u001b[32m[I 2022-12-30 10:23:03,345]\u001b[0m Trial 18 pruned. \u001b[0m\n"
          ]
        },
        {
          "output_type": "stream",
          "name": "stdout",
          "text": [
            "Trial 18 pruned. \n"
          ]
        },
        {
          "output_type": "stream",
          "name": "stderr",
          "text": [
            "\u001b[32m[I 2022-12-30 10:23:03,483]\u001b[0m Trial 19 pruned. \u001b[0m\n"
          ]
        },
        {
          "output_type": "stream",
          "name": "stdout",
          "text": [
            "Trial 19 pruned. \n"
          ]
        }
      ]
    },
    {
      "cell_type": "code",
      "source": [
        "#Графики\n",
        "from optuna.visualization import plot_contour\n",
        "from optuna.visualization import plot_edf\n",
        "from optuna.visualization import plot_intermediate_values\n",
        "from optuna.visualization import plot_optimization_history\n",
        "from optuna.visualization import plot_parallel_coordinate\n",
        "from optuna.visualization import plot_param_importances\n",
        "from optuna.visualization import plot_slice"
      ],
      "metadata": {
        "id": "HZ0ZG-Vl0SDj"
      },
      "execution_count": 8,
      "outputs": []
    },
    {
      "cell_type": "code",
      "source": [
        "plot_optimization_history(study)"
      ],
      "metadata": {
        "colab": {
          "base_uri": "https://localhost:8080/",
          "height": 542
        },
        "id": "nnQ_AFV40UQS",
        "outputId": "0fa2019a-241a-4c74-e2f1-344f93a14d66"
      },
      "execution_count": 9,
      "outputs": [
        {
          "output_type": "display_data",
          "data": {
            "text/html": [
              "<html>\n",
              "<head><meta charset=\"utf-8\" /></head>\n",
              "<body>\n",
              "    <div>            <script src=\"https://cdnjs.cloudflare.com/ajax/libs/mathjax/2.7.5/MathJax.js?config=TeX-AMS-MML_SVG\"></script><script type=\"text/javascript\">if (window.MathJax) {MathJax.Hub.Config({SVG: {font: \"STIX-Web\"}});}</script>                <script type=\"text/javascript\">window.PlotlyConfig = {MathJaxConfig: 'local'};</script>\n",
              "        <script src=\"https://cdn.plot.ly/plotly-2.8.3.min.js\"></script>                <div id=\"3f639bdd-7bfb-4646-85a2-814e3a9c800f\" class=\"plotly-graph-div\" style=\"height:525px; width:100%;\"></div>            <script type=\"text/javascript\">                                    window.PLOTLYENV=window.PLOTLYENV || {};                                    if (document.getElementById(\"3f639bdd-7bfb-4646-85a2-814e3a9c800f\")) {                    Plotly.newPlot(                        \"3f639bdd-7bfb-4646-85a2-814e3a9c800f\",                        [{\"mode\":\"markers\",\"name\":\"Objective Value\",\"x\":[0,1,2,3,4,7,14],\"y\":[0.03555555555555556,0.06444444444444442,0.05555555555555558,0.06666666666666665,0.05777777777777782,0.04888888888888887,0.05777777777777782],\"type\":\"scatter\"},{\"name\":\"Best Value\",\"x\":[0,1,2,3,4,7,14],\"y\":[0.03555555555555556,0.03555555555555556,0.03555555555555556,0.03555555555555556,0.03555555555555556,0.03555555555555556,0.03555555555555556],\"type\":\"scatter\"}],                        {\"title\":{\"text\":\"Optimization History Plot\"},\"xaxis\":{\"title\":{\"text\":\"Trial\"}},\"yaxis\":{\"title\":{\"text\":\"Objective Value\"}},\"template\":{\"data\":{\"bar\":[{\"error_x\":{\"color\":\"#2a3f5f\"},\"error_y\":{\"color\":\"#2a3f5f\"},\"marker\":{\"line\":{\"color\":\"#E5ECF6\",\"width\":0.5},\"pattern\":{\"fillmode\":\"overlay\",\"size\":10,\"solidity\":0.2}},\"type\":\"bar\"}],\"barpolar\":[{\"marker\":{\"line\":{\"color\":\"#E5ECF6\",\"width\":0.5},\"pattern\":{\"fillmode\":\"overlay\",\"size\":10,\"solidity\":0.2}},\"type\":\"barpolar\"}],\"carpet\":[{\"aaxis\":{\"endlinecolor\":\"#2a3f5f\",\"gridcolor\":\"white\",\"linecolor\":\"white\",\"minorgridcolor\":\"white\",\"startlinecolor\":\"#2a3f5f\"},\"baxis\":{\"endlinecolor\":\"#2a3f5f\",\"gridcolor\":\"white\",\"linecolor\":\"white\",\"minorgridcolor\":\"white\",\"startlinecolor\":\"#2a3f5f\"},\"type\":\"carpet\"}],\"choropleth\":[{\"colorbar\":{\"outlinewidth\":0,\"ticks\":\"\"},\"type\":\"choropleth\"}],\"contour\":[{\"colorbar\":{\"outlinewidth\":0,\"ticks\":\"\"},\"colorscale\":[[0.0,\"#0d0887\"],[0.1111111111111111,\"#46039f\"],[0.2222222222222222,\"#7201a8\"],[0.3333333333333333,\"#9c179e\"],[0.4444444444444444,\"#bd3786\"],[0.5555555555555556,\"#d8576b\"],[0.6666666666666666,\"#ed7953\"],[0.7777777777777778,\"#fb9f3a\"],[0.8888888888888888,\"#fdca26\"],[1.0,\"#f0f921\"]],\"type\":\"contour\"}],\"contourcarpet\":[{\"colorbar\":{\"outlinewidth\":0,\"ticks\":\"\"},\"type\":\"contourcarpet\"}],\"heatmap\":[{\"colorbar\":{\"outlinewidth\":0,\"ticks\":\"\"},\"colorscale\":[[0.0,\"#0d0887\"],[0.1111111111111111,\"#46039f\"],[0.2222222222222222,\"#7201a8\"],[0.3333333333333333,\"#9c179e\"],[0.4444444444444444,\"#bd3786\"],[0.5555555555555556,\"#d8576b\"],[0.6666666666666666,\"#ed7953\"],[0.7777777777777778,\"#fb9f3a\"],[0.8888888888888888,\"#fdca26\"],[1.0,\"#f0f921\"]],\"type\":\"heatmap\"}],\"heatmapgl\":[{\"colorbar\":{\"outlinewidth\":0,\"ticks\":\"\"},\"colorscale\":[[0.0,\"#0d0887\"],[0.1111111111111111,\"#46039f\"],[0.2222222222222222,\"#7201a8\"],[0.3333333333333333,\"#9c179e\"],[0.4444444444444444,\"#bd3786\"],[0.5555555555555556,\"#d8576b\"],[0.6666666666666666,\"#ed7953\"],[0.7777777777777778,\"#fb9f3a\"],[0.8888888888888888,\"#fdca26\"],[1.0,\"#f0f921\"]],\"type\":\"heatmapgl\"}],\"histogram\":[{\"marker\":{\"pattern\":{\"fillmode\":\"overlay\",\"size\":10,\"solidity\":0.2}},\"type\":\"histogram\"}],\"histogram2d\":[{\"colorbar\":{\"outlinewidth\":0,\"ticks\":\"\"},\"colorscale\":[[0.0,\"#0d0887\"],[0.1111111111111111,\"#46039f\"],[0.2222222222222222,\"#7201a8\"],[0.3333333333333333,\"#9c179e\"],[0.4444444444444444,\"#bd3786\"],[0.5555555555555556,\"#d8576b\"],[0.6666666666666666,\"#ed7953\"],[0.7777777777777778,\"#fb9f3a\"],[0.8888888888888888,\"#fdca26\"],[1.0,\"#f0f921\"]],\"type\":\"histogram2d\"}],\"histogram2dcontour\":[{\"colorbar\":{\"outlinewidth\":0,\"ticks\":\"\"},\"colorscale\":[[0.0,\"#0d0887\"],[0.1111111111111111,\"#46039f\"],[0.2222222222222222,\"#7201a8\"],[0.3333333333333333,\"#9c179e\"],[0.4444444444444444,\"#bd3786\"],[0.5555555555555556,\"#d8576b\"],[0.6666666666666666,\"#ed7953\"],[0.7777777777777778,\"#fb9f3a\"],[0.8888888888888888,\"#fdca26\"],[1.0,\"#f0f921\"]],\"type\":\"histogram2dcontour\"}],\"mesh3d\":[{\"colorbar\":{\"outlinewidth\":0,\"ticks\":\"\"},\"type\":\"mesh3d\"}],\"parcoords\":[{\"line\":{\"colorbar\":{\"outlinewidth\":0,\"ticks\":\"\"}},\"type\":\"parcoords\"}],\"pie\":[{\"automargin\":true,\"type\":\"pie\"}],\"scatter\":[{\"marker\":{\"colorbar\":{\"outlinewidth\":0,\"ticks\":\"\"}},\"type\":\"scatter\"}],\"scatter3d\":[{\"line\":{\"colorbar\":{\"outlinewidth\":0,\"ticks\":\"\"}},\"marker\":{\"colorbar\":{\"outlinewidth\":0,\"ticks\":\"\"}},\"type\":\"scatter3d\"}],\"scattercarpet\":[{\"marker\":{\"colorbar\":{\"outlinewidth\":0,\"ticks\":\"\"}},\"type\":\"scattercarpet\"}],\"scattergeo\":[{\"marker\":{\"colorbar\":{\"outlinewidth\":0,\"ticks\":\"\"}},\"type\":\"scattergeo\"}],\"scattergl\":[{\"marker\":{\"colorbar\":{\"outlinewidth\":0,\"ticks\":\"\"}},\"type\":\"scattergl\"}],\"scattermapbox\":[{\"marker\":{\"colorbar\":{\"outlinewidth\":0,\"ticks\":\"\"}},\"type\":\"scattermapbox\"}],\"scatterpolar\":[{\"marker\":{\"colorbar\":{\"outlinewidth\":0,\"ticks\":\"\"}},\"type\":\"scatterpolar\"}],\"scatterpolargl\":[{\"marker\":{\"colorbar\":{\"outlinewidth\":0,\"ticks\":\"\"}},\"type\":\"scatterpolargl\"}],\"scatterternary\":[{\"marker\":{\"colorbar\":{\"outlinewidth\":0,\"ticks\":\"\"}},\"type\":\"scatterternary\"}],\"surface\":[{\"colorbar\":{\"outlinewidth\":0,\"ticks\":\"\"},\"colorscale\":[[0.0,\"#0d0887\"],[0.1111111111111111,\"#46039f\"],[0.2222222222222222,\"#7201a8\"],[0.3333333333333333,\"#9c179e\"],[0.4444444444444444,\"#bd3786\"],[0.5555555555555556,\"#d8576b\"],[0.6666666666666666,\"#ed7953\"],[0.7777777777777778,\"#fb9f3a\"],[0.8888888888888888,\"#fdca26\"],[1.0,\"#f0f921\"]],\"type\":\"surface\"}],\"table\":[{\"cells\":{\"fill\":{\"color\":\"#EBF0F8\"},\"line\":{\"color\":\"white\"}},\"header\":{\"fill\":{\"color\":\"#C8D4E3\"},\"line\":{\"color\":\"white\"}},\"type\":\"table\"}]},\"layout\":{\"annotationdefaults\":{\"arrowcolor\":\"#2a3f5f\",\"arrowhead\":0,\"arrowwidth\":1},\"autotypenumbers\":\"strict\",\"coloraxis\":{\"colorbar\":{\"outlinewidth\":0,\"ticks\":\"\"}},\"colorscale\":{\"diverging\":[[0,\"#8e0152\"],[0.1,\"#c51b7d\"],[0.2,\"#de77ae\"],[0.3,\"#f1b6da\"],[0.4,\"#fde0ef\"],[0.5,\"#f7f7f7\"],[0.6,\"#e6f5d0\"],[0.7,\"#b8e186\"],[0.8,\"#7fbc41\"],[0.9,\"#4d9221\"],[1,\"#276419\"]],\"sequential\":[[0.0,\"#0d0887\"],[0.1111111111111111,\"#46039f\"],[0.2222222222222222,\"#7201a8\"],[0.3333333333333333,\"#9c179e\"],[0.4444444444444444,\"#bd3786\"],[0.5555555555555556,\"#d8576b\"],[0.6666666666666666,\"#ed7953\"],[0.7777777777777778,\"#fb9f3a\"],[0.8888888888888888,\"#fdca26\"],[1.0,\"#f0f921\"]],\"sequentialminus\":[[0.0,\"#0d0887\"],[0.1111111111111111,\"#46039f\"],[0.2222222222222222,\"#7201a8\"],[0.3333333333333333,\"#9c179e\"],[0.4444444444444444,\"#bd3786\"],[0.5555555555555556,\"#d8576b\"],[0.6666666666666666,\"#ed7953\"],[0.7777777777777778,\"#fb9f3a\"],[0.8888888888888888,\"#fdca26\"],[1.0,\"#f0f921\"]]},\"colorway\":[\"#636efa\",\"#EF553B\",\"#00cc96\",\"#ab63fa\",\"#FFA15A\",\"#19d3f3\",\"#FF6692\",\"#B6E880\",\"#FF97FF\",\"#FECB52\"],\"font\":{\"color\":\"#2a3f5f\"},\"geo\":{\"bgcolor\":\"white\",\"lakecolor\":\"white\",\"landcolor\":\"#E5ECF6\",\"showlakes\":true,\"showland\":true,\"subunitcolor\":\"white\"},\"hoverlabel\":{\"align\":\"left\"},\"hovermode\":\"closest\",\"mapbox\":{\"style\":\"light\"},\"paper_bgcolor\":\"white\",\"plot_bgcolor\":\"#E5ECF6\",\"polar\":{\"angularaxis\":{\"gridcolor\":\"white\",\"linecolor\":\"white\",\"ticks\":\"\"},\"bgcolor\":\"#E5ECF6\",\"radialaxis\":{\"gridcolor\":\"white\",\"linecolor\":\"white\",\"ticks\":\"\"}},\"scene\":{\"xaxis\":{\"backgroundcolor\":\"#E5ECF6\",\"gridcolor\":\"white\",\"gridwidth\":2,\"linecolor\":\"white\",\"showbackground\":true,\"ticks\":\"\",\"zerolinecolor\":\"white\"},\"yaxis\":{\"backgroundcolor\":\"#E5ECF6\",\"gridcolor\":\"white\",\"gridwidth\":2,\"linecolor\":\"white\",\"showbackground\":true,\"ticks\":\"\",\"zerolinecolor\":\"white\"},\"zaxis\":{\"backgroundcolor\":\"#E5ECF6\",\"gridcolor\":\"white\",\"gridwidth\":2,\"linecolor\":\"white\",\"showbackground\":true,\"ticks\":\"\",\"zerolinecolor\":\"white\"}},\"shapedefaults\":{\"line\":{\"color\":\"#2a3f5f\"}},\"ternary\":{\"aaxis\":{\"gridcolor\":\"white\",\"linecolor\":\"white\",\"ticks\":\"\"},\"baxis\":{\"gridcolor\":\"white\",\"linecolor\":\"white\",\"ticks\":\"\"},\"bgcolor\":\"#E5ECF6\",\"caxis\":{\"gridcolor\":\"white\",\"linecolor\":\"white\",\"ticks\":\"\"}},\"title\":{\"x\":0.05},\"xaxis\":{\"automargin\":true,\"gridcolor\":\"white\",\"linecolor\":\"white\",\"ticks\":\"\",\"title\":{\"standoff\":15},\"zerolinecolor\":\"white\",\"zerolinewidth\":2},\"yaxis\":{\"automargin\":true,\"gridcolor\":\"white\",\"linecolor\":\"white\",\"ticks\":\"\",\"title\":{\"standoff\":15},\"zerolinecolor\":\"white\",\"zerolinewidth\":2}}}},                        {\"responsive\": true}                    ).then(function(){\n",
              "                            \n",
              "var gd = document.getElementById('3f639bdd-7bfb-4646-85a2-814e3a9c800f');\n",
              "var x = new MutationObserver(function (mutations, observer) {{\n",
              "        var display = window.getComputedStyle(gd).display;\n",
              "        if (!display || display === 'none') {{\n",
              "            console.log([gd, 'removed!']);\n",
              "            Plotly.purge(gd);\n",
              "            observer.disconnect();\n",
              "        }}\n",
              "}});\n",
              "\n",
              "// Listen for the removal of the full notebook cells\n",
              "var notebookContainer = gd.closest('#notebook-container');\n",
              "if (notebookContainer) {{\n",
              "    x.observe(notebookContainer, {childList: true});\n",
              "}}\n",
              "\n",
              "// Listen for the clearing of the current output cell\n",
              "var outputEl = gd.closest('.output');\n",
              "if (outputEl) {{\n",
              "    x.observe(outputEl, {childList: true});\n",
              "}}\n",
              "\n",
              "                        })                };                            </script>        </div>\n",
              "</body>\n",
              "</html>"
            ]
          },
          "metadata": {}
        }
      ]
    },
    {
      "cell_type": "code",
      "source": [
        "plot_intermediate_values(study)"
      ],
      "metadata": {
        "colab": {
          "base_uri": "https://localhost:8080/",
          "height": 542
        },
        "id": "fTZrMoAq0X7i",
        "outputId": "81cdb2a7-c92d-4695-ec19-ce573f5eafa8"
      },
      "execution_count": 10,
      "outputs": [
        {
          "output_type": "display_data",
          "data": {
            "text/html": [
              "<html>\n",
              "<head><meta charset=\"utf-8\" /></head>\n",
              "<body>\n",
              "    <div>            <script src=\"https://cdnjs.cloudflare.com/ajax/libs/mathjax/2.7.5/MathJax.js?config=TeX-AMS-MML_SVG\"></script><script type=\"text/javascript\">if (window.MathJax) {MathJax.Hub.Config({SVG: {font: \"STIX-Web\"}});}</script>                <script type=\"text/javascript\">window.PlotlyConfig = {MathJaxConfig: 'local'};</script>\n",
              "        <script src=\"https://cdn.plot.ly/plotly-2.8.3.min.js\"></script>                <div id=\"029841ab-21b6-48cd-81ca-d0f7bfc44375\" class=\"plotly-graph-div\" style=\"height:525px; width:100%;\"></div>            <script type=\"text/javascript\">                                    window.PLOTLYENV=window.PLOTLYENV || {};                                    if (document.getElementById(\"029841ab-21b6-48cd-81ca-d0f7bfc44375\")) {                    Plotly.newPlot(                        \"029841ab-21b6-48cd-81ca-d0f7bfc44375\",                        [{\"marker\":{\"maxdisplayed\":10},\"mode\":\"lines+markers\",\"name\":\"Trial0\",\"x\":[0,1,2,3,4,5,6,7,8,9,10,11,12,13,14,15,16,17,18,19,20,21,22,23,24,25,26,27,28,29,30,31,32,33,34,35,36,37,38,39,40,41,42,43,44,45,46,47,48,49,50,51,52,53,54,55,56,57,58,59,60,61,62,63,64,65,66,67,68,69,70,71,72,73,74,75,76,77,78,79,80,81,82,83,84,85,86,87,88,89,90,91,92,93,94,95,96,97,98,99],\"y\":[0.14,0.07999999999999996,0.0755555555555556,0.07999999999999996,0.07999999999999996,0.11333333333333329,0.08444444444444443,0.07777777777777772,0.07333333333333336,0.05555555555555558,0.05777777777777782,0.09777777777777774,0.04888888888888887,0.0377777777777778,0.05111111111111111,0.053333333333333344,0.040000000000000036,0.04888888888888887,0.0444444444444444,0.05777777777777782,0.0444444444444444,0.06222222222222218,0.053333333333333344,0.05777777777777782,0.06222222222222218,0.06888888888888889,0.06666666666666665,0.07111111111111112,0.040000000000000036,0.046666666666666634,0.053333333333333344,0.07111111111111112,0.046666666666666634,0.05555555555555558,0.05555555555555558,0.06666666666666665,0.05111111111111111,0.04222222222222227,0.05555555555555558,0.05777777777777782,0.0444444444444444,0.06000000000000005,0.05555555555555558,0.0444444444444444,0.05555555555555558,0.06000000000000005,0.046666666666666634,0.033333333333333326,0.0444444444444444,0.05777777777777782,0.053333333333333344,0.06000000000000005,0.053333333333333344,0.046666666666666634,0.0444444444444444,0.05555555555555558,0.06000000000000005,0.05777777777777782,0.046666666666666634,0.04888888888888887,0.06000000000000005,0.05111111111111111,0.040000000000000036,0.04888888888888887,0.0444444444444444,0.05111111111111111,0.046666666666666634,0.046666666666666634,0.05111111111111111,0.040000000000000036,0.06000000000000005,0.05111111111111111,0.04222222222222227,0.05555555555555558,0.040000000000000036,0.04222222222222227,0.053333333333333344,0.033333333333333326,0.0444444444444444,0.053333333333333344,0.06888888888888889,0.040000000000000036,0.046666666666666634,0.053333333333333344,0.0444444444444444,0.04222222222222227,0.0444444444444444,0.046666666666666634,0.06666666666666665,0.04222222222222227,0.0444444444444444,0.04222222222222227,0.05777777777777782,0.05111111111111111,0.0444444444444444,0.046666666666666634,0.05111111111111111,0.046666666666666634,0.040000000000000036,0.03555555555555556],\"type\":\"scatter\"},{\"marker\":{\"maxdisplayed\":10},\"mode\":\"lines+markers\",\"name\":\"Trial1\",\"x\":[0,1,2,3,4,5,6,7,8,9,10,11,12,13,14,15,16,17,18,19,20,21,22,23,24,25,26,27,28,29,30,31,32,33,34,35,36,37,38,39,40,41,42,43,44,45,46,47,48,49,50,51,52,53,54,55,56,57,58,59,60,61,62,63,64,65,66,67,68,69,70,71,72,73,74,75,76,77,78,79,80,81,82,83,84,85,86,87,88,89,90,91,92,93,94,95,96,97,98,99],\"y\":[0.11555555555555552,0.0755555555555556,0.0822222222222222,0.11777777777777776,0.15555555555555556,0.06444444444444442,0.06888888888888889,0.06444444444444442,0.05555555555555558,0.11777777777777776,0.07777777777777772,0.06888888888888889,0.06000000000000005,0.06666666666666665,0.06888888888888889,0.07333333333333336,0.07111111111111112,0.0755555555555556,0.07333333333333336,0.06888888888888889,0.06888888888888889,0.07999999999999996,0.05555555555555558,0.046666666666666634,0.12,0.06666666666666665,0.06444444444444442,0.11333333333333329,0.06000000000000005,0.05777777777777782,0.07111111111111112,0.06000000000000005,0.06000000000000005,0.07333333333333336,0.06222222222222218,0.06888888888888889,0.06000000000000005,0.046666666666666634,0.06222222222222218,0.053333333333333344,0.06222222222222218,0.053333333333333344,0.06888888888888889,0.06444444444444442,0.06222222222222218,0.06444444444444442,0.06000000000000005,0.06000000000000005,0.06222222222222218,0.05111111111111111,0.05555555555555558,0.05555555555555558,0.06000000000000005,0.07111111111111112,0.053333333333333344,0.06000000000000005,0.06000000000000005,0.06000000000000005,0.07111111111111112,0.07111111111111112,0.05111111111111111,0.05111111111111111,0.053333333333333344,0.06444444444444442,0.07333333333333336,0.06222222222222218,0.06444444444444442,0.06888888888888889,0.06000000000000005,0.07777777777777772,0.07333333333333336,0.05555555555555558,0.06222222222222218,0.06444444444444442,0.07333333333333336,0.07111111111111112,0.06000000000000005,0.06222222222222218,0.07777777777777772,0.05555555555555558,0.06222222222222218,0.07111111111111112,0.053333333333333344,0.05555555555555558,0.07777777777777772,0.07333333333333336,0.06444444444444442,0.07333333333333336,0.06000000000000005,0.0888888888888889,0.05555555555555558,0.06888888888888889,0.06444444444444442,0.07333333333333336,0.06444444444444442,0.06666666666666665,0.06888888888888889,0.06000000000000005,0.05777777777777782,0.06444444444444442],\"type\":\"scatter\"},{\"marker\":{\"maxdisplayed\":10},\"mode\":\"lines+markers\",\"name\":\"Trial2\",\"x\":[0,1,2,3,4,5,6,7,8,9,10,11,12,13,14,15,16,17,18,19,20,21,22,23,24,25,26,27,28,29,30,31,32,33,34,35,36,37,38,39,40,41,42,43,44,45,46,47,48,49,50,51,52,53,54,55,56,57,58,59,60,61,62,63,64,65,66,67,68,69,70,71,72,73,74,75,76,77,78,79,80,81,82,83,84,85,86,87,88,89,90,91,92,93,94,95,96,97,98,99],\"y\":[0.06888888888888889,0.0955555555555555,0.046666666666666634,0.06888888888888889,0.06888888888888889,0.10444444444444445,0.07111111111111112,0.07999999999999996,0.07999999999999996,0.06444444444444442,0.10666666666666669,0.05555555555555558,0.053333333333333344,0.08444444444444443,0.06222222222222218,0.06888888888888889,0.07777777777777772,0.10222222222222221,0.06666666666666665,0.06888888888888889,0.053333333333333344,0.07333333333333336,0.06444444444444442,0.07999999999999996,0.05555555555555558,0.0755555555555556,0.07111111111111112,0.06444444444444442,0.06888888888888889,0.07333333333333336,0.07333333333333336,0.06666666666666665,0.07333333333333336,0.07111111111111112,0.06000000000000005,0.04888888888888887,0.06000000000000005,0.07333333333333336,0.06222222222222218,0.06000000000000005,0.0822222222222222,0.07111111111111112,0.05777777777777782,0.0955555555555555,0.05777777777777782,0.0822222222222222,0.06444444444444442,0.06888888888888889,0.06222222222222218,0.05777777777777782,0.07111111111111112,0.07999999999999996,0.07111111111111112,0.06000000000000005,0.06444444444444442,0.08666666666666667,0.06000000000000005,0.05555555555555558,0.07777777777777772,0.06444444444444442,0.04888888888888887,0.06222222222222218,0.05777777777777782,0.07333333333333336,0.06222222222222218,0.06000000000000005,0.07333333333333336,0.07111111111111112,0.07333333333333336,0.06666666666666665,0.0822222222222222,0.05555555555555558,0.05777777777777782,0.07333333333333336,0.06888888888888889,0.06888888888888889,0.07111111111111112,0.07111111111111112,0.06444444444444442,0.09777777777777774,0.05555555555555558,0.07111111111111112,0.05555555555555558,0.06222222222222218,0.06444444444444442,0.05777777777777782,0.07777777777777772,0.06888888888888889,0.06000000000000005,0.05555555555555558,0.07333333333333336,0.06222222222222218,0.0755555555555556,0.07111111111111112,0.0755555555555556,0.06444444444444442,0.06444444444444442,0.0888888888888889,0.05555555555555558,0.05555555555555558],\"type\":\"scatter\"},{\"marker\":{\"maxdisplayed\":10},\"mode\":\"lines+markers\",\"name\":\"Trial3\",\"x\":[0,1,2,3,4,5,6,7,8,9,10,11,12,13,14,15,16,17,18,19,20,21,22,23,24,25,26,27,28,29,30,31,32,33,34,35,36,37,38,39,40,41,42,43,44,45,46,47,48,49,50,51,52,53,54,55,56,57,58,59,60,61,62,63,64,65,66,67,68,69,70,71,72,73,74,75,76,77,78,79,80,81,82,83,84,85,86,87,88,89,90,91,92,93,94,95,96,97,98,99],\"y\":[0.1266666666666667,0.09999999999999998,0.13555555555555554,0.06444444444444442,0.0888888888888889,0.06222222222222218,0.10222222222222221,0.06888888888888889,0.04222222222222227,0.053333333333333344,0.06444444444444442,0.09111111111111114,0.07111111111111112,0.07333333333333336,0.04888888888888887,0.0822222222222222,0.06444444444444442,0.06888888888888889,0.06888888888888889,0.06888888888888889,0.07777777777777772,0.06666666666666665,0.06222222222222218,0.04888888888888887,0.06222222222222218,0.06000000000000005,0.06444444444444442,0.05777777777777782,0.06222222222222218,0.06444444444444442,0.07333333333333336,0.07333333333333336,0.07111111111111112,0.06222222222222218,0.07999999999999996,0.09111111111111114,0.06222222222222218,0.05777777777777782,0.06444444444444442,0.08444444444444443,0.06888888888888889,0.06222222222222218,0.06666666666666665,0.06888888888888889,0.06444444444444442,0.07777777777777772,0.05777777777777782,0.06888888888888889,0.06000000000000005,0.07999999999999996,0.06222222222222218,0.04222222222222227,0.05111111111111111,0.07777777777777772,0.05555555555555558,0.06000000000000005,0.06222222222222218,0.05777777777777782,0.07999999999999996,0.05777777777777782,0.05777777777777782,0.07999999999999996,0.06444444444444442,0.07999999999999996,0.06888888888888889,0.07777777777777772,0.07999999999999996,0.06000000000000005,0.07777777777777772,0.06000000000000005,0.06000000000000005,0.0755555555555556,0.0955555555555555,0.08666666666666667,0.07333333333333336,0.07111111111111112,0.0755555555555556,0.06222222222222218,0.07111111111111112,0.07333333333333336,0.06222222222222218,0.07999999999999996,0.05111111111111111,0.06666666666666665,0.06444444444444442,0.06000000000000005,0.06888888888888889,0.06666666666666665,0.05777777777777782,0.06222222222222218,0.06444444444444442,0.07777777777777772,0.06000000000000005,0.06444444444444442,0.06000000000000005,0.06888888888888889,0.06444444444444442,0.06888888888888889,0.07333333333333336,0.06666666666666665],\"type\":\"scatter\"},{\"marker\":{\"maxdisplayed\":10},\"mode\":\"lines+markers\",\"name\":\"Trial4\",\"x\":[0,1,2,3,4,5,6,7,8,9,10,11,12,13,14,15,16,17,18,19,20,21,22,23,24,25,26,27,28,29,30,31,32,33,34,35,36,37,38,39,40,41,42,43,44,45,46,47,48,49,50,51,52,53,54,55,56,57,58,59,60,61,62,63,64,65,66,67,68,69,70,71,72,73,74,75,76,77,78,79,80,81,82,83,84,85,86,87,88,89,90,91,92,93,94,95,96,97,98,99],\"y\":[0.07777777777777772,0.09333333333333338,0.10444444444444445,0.13111111111111107,0.06444444444444442,0.09111111111111114,0.11777777777777776,0.06444444444444442,0.06444444444444442,0.053333333333333344,0.06444444444444442,0.09333333333333338,0.053333333333333344,0.0755555555555556,0.11777777777777776,0.06666666666666665,0.06888888888888889,0.05111111111111111,0.06222222222222218,0.06666666666666665,0.06000000000000005,0.06000000000000005,0.06444444444444442,0.0755555555555556,0.07111111111111112,0.07999999999999996,0.06666666666666665,0.07111111111111112,0.09333333333333338,0.06222222222222218,0.05555555555555558,0.053333333333333344,0.06666666666666665,0.07333333333333336,0.06666666666666665,0.08666666666666667,0.07333333333333336,0.0888888888888889,0.06222222222222218,0.06000000000000005,0.0755555555555556,0.07333333333333336,0.053333333333333344,0.06000000000000005,0.053333333333333344,0.06222222222222218,0.06888888888888889,0.07777777777777772,0.07333333333333336,0.08666666666666667,0.06666666666666665,0.07111111111111112,0.05555555555555558,0.06000000000000005,0.06888888888888889,0.06444444444444442,0.05555555555555558,0.05777777777777782,0.06888888888888889,0.06444444444444442,0.06666666666666665,0.06666666666666665,0.06222222222222218,0.07111111111111112,0.06888888888888889,0.05777777777777782,0.06222222222222218,0.05777777777777782,0.05777777777777782,0.05111111111111111,0.06666666666666665,0.06222222222222218,0.06888888888888889,0.07111111111111112,0.05111111111111111,0.07333333333333336,0.05555555555555558,0.06666666666666665,0.06888888888888889,0.05111111111111111,0.08444444444444443,0.07111111111111112,0.06000000000000005,0.07999999999999996,0.05555555555555558,0.05555555555555558,0.06222222222222218,0.0822222222222222,0.05555555555555558,0.06888888888888889,0.06888888888888889,0.06444444444444442,0.0755555555555556,0.06444444444444442,0.07333333333333336,0.05555555555555558,0.06000000000000005,0.06444444444444442,0.05555555555555558,0.05777777777777782],\"type\":\"scatter\"},{\"marker\":{\"maxdisplayed\":10},\"mode\":\"lines+markers\",\"name\":\"Trial5\",\"x\":[0],\"y\":[0.14888888888888885],\"type\":\"scatter\"},{\"marker\":{\"maxdisplayed\":10},\"mode\":\"lines+markers\",\"name\":\"Trial6\",\"x\":[0],\"y\":[0.1711111111111111],\"type\":\"scatter\"},{\"marker\":{\"maxdisplayed\":10},\"mode\":\"lines+markers\",\"name\":\"Trial7\",\"x\":[0,1,2,3,4,5,6,7,8,9,10,11,12,13,14,15,16,17,18,19,20,21,22,23,24,25,26,27,28,29,30,31,32,33,34,35,36,37,38,39,40,41,42,43,44,45,46,47,48,49,50,51,52,53,54,55,56,57,58,59,60,61,62,63,64,65,66,67,68,69,70,71,72,73,74,75,76,77,78,79,80,81,82,83,84,85,86,87,88,89,90,91,92,93,94,95,96,97,98,99],\"y\":[0.0755555555555556,0.06444444444444442,0.08666666666666667,0.053333333333333344,0.05777777777777782,0.05111111111111111,0.05777777777777782,0.0755555555555556,0.06444444444444442,0.0755555555555556,0.07333333333333336,0.06000000000000005,0.05555555555555558,0.06222222222222218,0.05111111111111111,0.05777777777777782,0.05111111111111111,0.05777777777777782,0.05111111111111111,0.05111111111111111,0.06000000000000005,0.046666666666666634,0.0755555555555556,0.05111111111111111,0.04888888888888887,0.046666666666666634,0.040000000000000036,0.04888888888888887,0.06222222222222218,0.046666666666666634,0.053333333333333344,0.040000000000000036,0.07111111111111112,0.0377777777777778,0.053333333333333344,0.05555555555555558,0.06666666666666665,0.06666666666666665,0.040000000000000036,0.04888888888888887,0.0377777777777778,0.04888888888888887,0.05777777777777782,0.06000000000000005,0.05777777777777782,0.0444444444444444,0.0444444444444444,0.053333333333333344,0.04888888888888887,0.053333333333333344,0.05111111111111111,0.04888888888888887,0.0377777777777778,0.05111111111111111,0.04222222222222227,0.053333333333333344,0.0377777777777778,0.06222222222222218,0.040000000000000036,0.04888888888888887,0.053333333333333344,0.053333333333333344,0.0444444444444444,0.046666666666666634,0.05777777777777782,0.0377777777777778,0.046666666666666634,0.05111111111111111,0.04888888888888887,0.04222222222222227,0.04222222222222227,0.05111111111111111,0.05777777777777782,0.05111111111111111,0.04888888888888887,0.046666666666666634,0.0444444444444444,0.046666666666666634,0.046666666666666634,0.053333333333333344,0.04222222222222227,0.040000000000000036,0.0444444444444444,0.0444444444444444,0.04222222222222227,0.0444444444444444,0.040000000000000036,0.04888888888888887,0.04222222222222227,0.03555555555555556,0.0444444444444444,0.0444444444444444,0.04222222222222227,0.03555555555555556,0.03555555555555556,0.046666666666666634,0.05555555555555558,0.0444444444444444,0.04222222222222227,0.04888888888888887],\"type\":\"scatter\"},{\"marker\":{\"maxdisplayed\":10},\"mode\":\"lines+markers\",\"name\":\"Trial8\",\"x\":[0],\"y\":[0.13777777777777778],\"type\":\"scatter\"},{\"marker\":{\"maxdisplayed\":10},\"mode\":\"lines+markers\",\"name\":\"Trial9\",\"x\":[0],\"y\":[0.13555555555555554],\"type\":\"scatter\"},{\"marker\":{\"maxdisplayed\":10},\"mode\":\"lines+markers\",\"name\":\"Trial10\",\"x\":[0],\"y\":[0.15111111111111108],\"type\":\"scatter\"},{\"marker\":{\"maxdisplayed\":10},\"mode\":\"lines+markers\",\"name\":\"Trial11\",\"x\":[0],\"y\":[0.13555555555555554],\"type\":\"scatter\"},{\"marker\":{\"maxdisplayed\":10},\"mode\":\"lines+markers\",\"name\":\"Trial12\",\"x\":[0],\"y\":[0.2155555555555555],\"type\":\"scatter\"},{\"marker\":{\"maxdisplayed\":10},\"mode\":\"lines+markers\",\"name\":\"Trial13\",\"x\":[0],\"y\":[0.09777777777777774],\"type\":\"scatter\"},{\"marker\":{\"maxdisplayed\":10},\"mode\":\"lines+markers\",\"name\":\"Trial14\",\"x\":[0,1,2,3,4,5,6,7,8,9,10,11,12,13,14,15,16,17,18,19,20,21,22,23,24,25,26,27,28,29,30,31,32,33,34,35,36,37,38,39,40,41,42,43,44,45,46,47,48,49,50,51,52,53,54,55,56,57,58,59,60,61,62,63,64,65,66,67,68,69,70,71,72,73,74,75,76,77,78,79,80,81,82,83,84,85,86,87,88,89,90,91,92,93,94,95,96,97,98,99],\"y\":[0.09111111111111114,0.07333333333333336,0.16222222222222227,0.0755555555555556,0.12888888888888894,0.06000000000000005,0.053333333333333344,0.06222222222222218,0.0444444444444444,0.0888888888888889,0.07999999999999996,0.07333333333333336,0.06666666666666665,0.11333333333333329,0.05777777777777782,0.06888888888888889,0.06666666666666665,0.0888888888888889,0.06000000000000005,0.05555555555555558,0.06666666666666665,0.08444444444444443,0.07777777777777772,0.06666666666666665,0.0755555555555556,0.06666666666666665,0.07111111111111112,0.08444444444444443,0.14,0.06444444444444442,0.06444444444444442,0.053333333333333344,0.07111111111111112,0.0755555555555556,0.0955555555555555,0.046666666666666634,0.05555555555555558,0.06666666666666665,0.05555555555555558,0.06222222222222218,0.07333333333333336,0.06444444444444442,0.06888888888888889,0.08444444444444443,0.0755555555555556,0.06222222222222218,0.06666666666666665,0.06222222222222218,0.06000000000000005,0.07111111111111112,0.053333333333333344,0.04888888888888887,0.05777777777777782,0.07111111111111112,0.053333333333333344,0.05111111111111111,0.06222222222222218,0.06000000000000005,0.053333333333333344,0.05555555555555558,0.06222222222222218,0.053333333333333344,0.06888888888888889,0.06666666666666665,0.053333333333333344,0.05777777777777782,0.06222222222222218,0.05777777777777782,0.05777777777777782,0.046666666666666634,0.0755555555555556,0.07333333333333336,0.06000000000000005,0.05777777777777782,0.06666666666666665,0.0755555555555556,0.06000000000000005,0.06000000000000005,0.06000000000000005,0.046666666666666634,0.07111111111111112,0.06000000000000005,0.06444444444444442,0.06666666666666665,0.06222222222222218,0.053333333333333344,0.06222222222222218,0.05555555555555558,0.04888888888888887,0.06000000000000005,0.05111111111111111,0.05111111111111111,0.0755555555555556,0.06666666666666665,0.06000000000000005,0.06666666666666665,0.06000000000000005,0.06888888888888889,0.05777777777777782,0.05777777777777782],\"type\":\"scatter\"},{\"marker\":{\"maxdisplayed\":10},\"mode\":\"lines+markers\",\"name\":\"Trial15\",\"x\":[0],\"y\":[0.25111111111111106],\"type\":\"scatter\"},{\"marker\":{\"maxdisplayed\":10},\"mode\":\"lines+markers\",\"name\":\"Trial16\",\"x\":[0,1,2,3,4,5],\"y\":[0.07999999999999996,0.18000000000000005,0.09111111111111114,0.07333333333333336,0.09333333333333338,0.14222222222222225],\"type\":\"scatter\"},{\"marker\":{\"maxdisplayed\":10},\"mode\":\"lines+markers\",\"name\":\"Trial17\",\"x\":[0],\"y\":[0.10222222222222221],\"type\":\"scatter\"},{\"marker\":{\"maxdisplayed\":10},\"mode\":\"lines+markers\",\"name\":\"Trial18\",\"x\":[0],\"y\":[0.10888888888888892],\"type\":\"scatter\"},{\"marker\":{\"maxdisplayed\":10},\"mode\":\"lines+markers\",\"name\":\"Trial19\",\"x\":[0],\"y\":[0.14],\"type\":\"scatter\"}],                        {\"showlegend\":false,\"title\":{\"text\":\"Intermediate Values Plot\"},\"xaxis\":{\"title\":{\"text\":\"Step\"}},\"yaxis\":{\"title\":{\"text\":\"Intermediate Value\"}},\"template\":{\"data\":{\"bar\":[{\"error_x\":{\"color\":\"#2a3f5f\"},\"error_y\":{\"color\":\"#2a3f5f\"},\"marker\":{\"line\":{\"color\":\"#E5ECF6\",\"width\":0.5},\"pattern\":{\"fillmode\":\"overlay\",\"size\":10,\"solidity\":0.2}},\"type\":\"bar\"}],\"barpolar\":[{\"marker\":{\"line\":{\"color\":\"#E5ECF6\",\"width\":0.5},\"pattern\":{\"fillmode\":\"overlay\",\"size\":10,\"solidity\":0.2}},\"type\":\"barpolar\"}],\"carpet\":[{\"aaxis\":{\"endlinecolor\":\"#2a3f5f\",\"gridcolor\":\"white\",\"linecolor\":\"white\",\"minorgridcolor\":\"white\",\"startlinecolor\":\"#2a3f5f\"},\"baxis\":{\"endlinecolor\":\"#2a3f5f\",\"gridcolor\":\"white\",\"linecolor\":\"white\",\"minorgridcolor\":\"white\",\"startlinecolor\":\"#2a3f5f\"},\"type\":\"carpet\"}],\"choropleth\":[{\"colorbar\":{\"outlinewidth\":0,\"ticks\":\"\"},\"type\":\"choropleth\"}],\"contour\":[{\"colorbar\":{\"outlinewidth\":0,\"ticks\":\"\"},\"colorscale\":[[0.0,\"#0d0887\"],[0.1111111111111111,\"#46039f\"],[0.2222222222222222,\"#7201a8\"],[0.3333333333333333,\"#9c179e\"],[0.4444444444444444,\"#bd3786\"],[0.5555555555555556,\"#d8576b\"],[0.6666666666666666,\"#ed7953\"],[0.7777777777777778,\"#fb9f3a\"],[0.8888888888888888,\"#fdca26\"],[1.0,\"#f0f921\"]],\"type\":\"contour\"}],\"contourcarpet\":[{\"colorbar\":{\"outlinewidth\":0,\"ticks\":\"\"},\"type\":\"contourcarpet\"}],\"heatmap\":[{\"colorbar\":{\"outlinewidth\":0,\"ticks\":\"\"},\"colorscale\":[[0.0,\"#0d0887\"],[0.1111111111111111,\"#46039f\"],[0.2222222222222222,\"#7201a8\"],[0.3333333333333333,\"#9c179e\"],[0.4444444444444444,\"#bd3786\"],[0.5555555555555556,\"#d8576b\"],[0.6666666666666666,\"#ed7953\"],[0.7777777777777778,\"#fb9f3a\"],[0.8888888888888888,\"#fdca26\"],[1.0,\"#f0f921\"]],\"type\":\"heatmap\"}],\"heatmapgl\":[{\"colorbar\":{\"outlinewidth\":0,\"ticks\":\"\"},\"colorscale\":[[0.0,\"#0d0887\"],[0.1111111111111111,\"#46039f\"],[0.2222222222222222,\"#7201a8\"],[0.3333333333333333,\"#9c179e\"],[0.4444444444444444,\"#bd3786\"],[0.5555555555555556,\"#d8576b\"],[0.6666666666666666,\"#ed7953\"],[0.7777777777777778,\"#fb9f3a\"],[0.8888888888888888,\"#fdca26\"],[1.0,\"#f0f921\"]],\"type\":\"heatmapgl\"}],\"histogram\":[{\"marker\":{\"pattern\":{\"fillmode\":\"overlay\",\"size\":10,\"solidity\":0.2}},\"type\":\"histogram\"}],\"histogram2d\":[{\"colorbar\":{\"outlinewidth\":0,\"ticks\":\"\"},\"colorscale\":[[0.0,\"#0d0887\"],[0.1111111111111111,\"#46039f\"],[0.2222222222222222,\"#7201a8\"],[0.3333333333333333,\"#9c179e\"],[0.4444444444444444,\"#bd3786\"],[0.5555555555555556,\"#d8576b\"],[0.6666666666666666,\"#ed7953\"],[0.7777777777777778,\"#fb9f3a\"],[0.8888888888888888,\"#fdca26\"],[1.0,\"#f0f921\"]],\"type\":\"histogram2d\"}],\"histogram2dcontour\":[{\"colorbar\":{\"outlinewidth\":0,\"ticks\":\"\"},\"colorscale\":[[0.0,\"#0d0887\"],[0.1111111111111111,\"#46039f\"],[0.2222222222222222,\"#7201a8\"],[0.3333333333333333,\"#9c179e\"],[0.4444444444444444,\"#bd3786\"],[0.5555555555555556,\"#d8576b\"],[0.6666666666666666,\"#ed7953\"],[0.7777777777777778,\"#fb9f3a\"],[0.8888888888888888,\"#fdca26\"],[1.0,\"#f0f921\"]],\"type\":\"histogram2dcontour\"}],\"mesh3d\":[{\"colorbar\":{\"outlinewidth\":0,\"ticks\":\"\"},\"type\":\"mesh3d\"}],\"parcoords\":[{\"line\":{\"colorbar\":{\"outlinewidth\":0,\"ticks\":\"\"}},\"type\":\"parcoords\"}],\"pie\":[{\"automargin\":true,\"type\":\"pie\"}],\"scatter\":[{\"marker\":{\"colorbar\":{\"outlinewidth\":0,\"ticks\":\"\"}},\"type\":\"scatter\"}],\"scatter3d\":[{\"line\":{\"colorbar\":{\"outlinewidth\":0,\"ticks\":\"\"}},\"marker\":{\"colorbar\":{\"outlinewidth\":0,\"ticks\":\"\"}},\"type\":\"scatter3d\"}],\"scattercarpet\":[{\"marker\":{\"colorbar\":{\"outlinewidth\":0,\"ticks\":\"\"}},\"type\":\"scattercarpet\"}],\"scattergeo\":[{\"marker\":{\"colorbar\":{\"outlinewidth\":0,\"ticks\":\"\"}},\"type\":\"scattergeo\"}],\"scattergl\":[{\"marker\":{\"colorbar\":{\"outlinewidth\":0,\"ticks\":\"\"}},\"type\":\"scattergl\"}],\"scattermapbox\":[{\"marker\":{\"colorbar\":{\"outlinewidth\":0,\"ticks\":\"\"}},\"type\":\"scattermapbox\"}],\"scatterpolar\":[{\"marker\":{\"colorbar\":{\"outlinewidth\":0,\"ticks\":\"\"}},\"type\":\"scatterpolar\"}],\"scatterpolargl\":[{\"marker\":{\"colorbar\":{\"outlinewidth\":0,\"ticks\":\"\"}},\"type\":\"scatterpolargl\"}],\"scatterternary\":[{\"marker\":{\"colorbar\":{\"outlinewidth\":0,\"ticks\":\"\"}},\"type\":\"scatterternary\"}],\"surface\":[{\"colorbar\":{\"outlinewidth\":0,\"ticks\":\"\"},\"colorscale\":[[0.0,\"#0d0887\"],[0.1111111111111111,\"#46039f\"],[0.2222222222222222,\"#7201a8\"],[0.3333333333333333,\"#9c179e\"],[0.4444444444444444,\"#bd3786\"],[0.5555555555555556,\"#d8576b\"],[0.6666666666666666,\"#ed7953\"],[0.7777777777777778,\"#fb9f3a\"],[0.8888888888888888,\"#fdca26\"],[1.0,\"#f0f921\"]],\"type\":\"surface\"}],\"table\":[{\"cells\":{\"fill\":{\"color\":\"#EBF0F8\"},\"line\":{\"color\":\"white\"}},\"header\":{\"fill\":{\"color\":\"#C8D4E3\"},\"line\":{\"color\":\"white\"}},\"type\":\"table\"}]},\"layout\":{\"annotationdefaults\":{\"arrowcolor\":\"#2a3f5f\",\"arrowhead\":0,\"arrowwidth\":1},\"autotypenumbers\":\"strict\",\"coloraxis\":{\"colorbar\":{\"outlinewidth\":0,\"ticks\":\"\"}},\"colorscale\":{\"diverging\":[[0,\"#8e0152\"],[0.1,\"#c51b7d\"],[0.2,\"#de77ae\"],[0.3,\"#f1b6da\"],[0.4,\"#fde0ef\"],[0.5,\"#f7f7f7\"],[0.6,\"#e6f5d0\"],[0.7,\"#b8e186\"],[0.8,\"#7fbc41\"],[0.9,\"#4d9221\"],[1,\"#276419\"]],\"sequential\":[[0.0,\"#0d0887\"],[0.1111111111111111,\"#46039f\"],[0.2222222222222222,\"#7201a8\"],[0.3333333333333333,\"#9c179e\"],[0.4444444444444444,\"#bd3786\"],[0.5555555555555556,\"#d8576b\"],[0.6666666666666666,\"#ed7953\"],[0.7777777777777778,\"#fb9f3a\"],[0.8888888888888888,\"#fdca26\"],[1.0,\"#f0f921\"]],\"sequentialminus\":[[0.0,\"#0d0887\"],[0.1111111111111111,\"#46039f\"],[0.2222222222222222,\"#7201a8\"],[0.3333333333333333,\"#9c179e\"],[0.4444444444444444,\"#bd3786\"],[0.5555555555555556,\"#d8576b\"],[0.6666666666666666,\"#ed7953\"],[0.7777777777777778,\"#fb9f3a\"],[0.8888888888888888,\"#fdca26\"],[1.0,\"#f0f921\"]]},\"colorway\":[\"#636efa\",\"#EF553B\",\"#00cc96\",\"#ab63fa\",\"#FFA15A\",\"#19d3f3\",\"#FF6692\",\"#B6E880\",\"#FF97FF\",\"#FECB52\"],\"font\":{\"color\":\"#2a3f5f\"},\"geo\":{\"bgcolor\":\"white\",\"lakecolor\":\"white\",\"landcolor\":\"#E5ECF6\",\"showlakes\":true,\"showland\":true,\"subunitcolor\":\"white\"},\"hoverlabel\":{\"align\":\"left\"},\"hovermode\":\"closest\",\"mapbox\":{\"style\":\"light\"},\"paper_bgcolor\":\"white\",\"plot_bgcolor\":\"#E5ECF6\",\"polar\":{\"angularaxis\":{\"gridcolor\":\"white\",\"linecolor\":\"white\",\"ticks\":\"\"},\"bgcolor\":\"#E5ECF6\",\"radialaxis\":{\"gridcolor\":\"white\",\"linecolor\":\"white\",\"ticks\":\"\"}},\"scene\":{\"xaxis\":{\"backgroundcolor\":\"#E5ECF6\",\"gridcolor\":\"white\",\"gridwidth\":2,\"linecolor\":\"white\",\"showbackground\":true,\"ticks\":\"\",\"zerolinecolor\":\"white\"},\"yaxis\":{\"backgroundcolor\":\"#E5ECF6\",\"gridcolor\":\"white\",\"gridwidth\":2,\"linecolor\":\"white\",\"showbackground\":true,\"ticks\":\"\",\"zerolinecolor\":\"white\"},\"zaxis\":{\"backgroundcolor\":\"#E5ECF6\",\"gridcolor\":\"white\",\"gridwidth\":2,\"linecolor\":\"white\",\"showbackground\":true,\"ticks\":\"\",\"zerolinecolor\":\"white\"}},\"shapedefaults\":{\"line\":{\"color\":\"#2a3f5f\"}},\"ternary\":{\"aaxis\":{\"gridcolor\":\"white\",\"linecolor\":\"white\",\"ticks\":\"\"},\"baxis\":{\"gridcolor\":\"white\",\"linecolor\":\"white\",\"ticks\":\"\"},\"bgcolor\":\"#E5ECF6\",\"caxis\":{\"gridcolor\":\"white\",\"linecolor\":\"white\",\"ticks\":\"\"}},\"title\":{\"x\":0.05},\"xaxis\":{\"automargin\":true,\"gridcolor\":\"white\",\"linecolor\":\"white\",\"ticks\":\"\",\"title\":{\"standoff\":15},\"zerolinecolor\":\"white\",\"zerolinewidth\":2},\"yaxis\":{\"automargin\":true,\"gridcolor\":\"white\",\"linecolor\":\"white\",\"ticks\":\"\",\"title\":{\"standoff\":15},\"zerolinecolor\":\"white\",\"zerolinewidth\":2}}}},                        {\"responsive\": true}                    ).then(function(){\n",
              "                            \n",
              "var gd = document.getElementById('029841ab-21b6-48cd-81ca-d0f7bfc44375');\n",
              "var x = new MutationObserver(function (mutations, observer) {{\n",
              "        var display = window.getComputedStyle(gd).display;\n",
              "        if (!display || display === 'none') {{\n",
              "            console.log([gd, 'removed!']);\n",
              "            Plotly.purge(gd);\n",
              "            observer.disconnect();\n",
              "        }}\n",
              "}});\n",
              "\n",
              "// Listen for the removal of the full notebook cells\n",
              "var notebookContainer = gd.closest('#notebook-container');\n",
              "if (notebookContainer) {{\n",
              "    x.observe(notebookContainer, {childList: true});\n",
              "}}\n",
              "\n",
              "// Listen for the clearing of the current output cell\n",
              "var outputEl = gd.closest('.output');\n",
              "if (outputEl) {{\n",
              "    x.observe(outputEl, {childList: true});\n",
              "}}\n",
              "\n",
              "                        })                };                            </script>        </div>\n",
              "</body>\n",
              "</html>"
            ]
          },
          "metadata": {}
        }
      ]
    },
    {
      "cell_type": "code",
      "source": [
        "plot_parallel_coordinate(study)"
      ],
      "metadata": {
        "colab": {
          "base_uri": "https://localhost:8080/",
          "height": 542
        },
        "id": "NbevOuGB0b6b",
        "outputId": "4e6e83a8-e9cb-491a-9c2e-5b62cf560c7d"
      },
      "execution_count": 11,
      "outputs": [
        {
          "output_type": "display_data",
          "data": {
            "text/html": [
              "<html>\n",
              "<head><meta charset=\"utf-8\" /></head>\n",
              "<body>\n",
              "    <div>            <script src=\"https://cdnjs.cloudflare.com/ajax/libs/mathjax/2.7.5/MathJax.js?config=TeX-AMS-MML_SVG\"></script><script type=\"text/javascript\">if (window.MathJax) {MathJax.Hub.Config({SVG: {font: \"STIX-Web\"}});}</script>                <script type=\"text/javascript\">window.PlotlyConfig = {MathJaxConfig: 'local'};</script>\n",
              "        <script src=\"https://cdn.plot.ly/plotly-2.8.3.min.js\"></script>                <div id=\"ffe6b244-f6a7-4a5a-a17d-e1ce3c4f85a3\" class=\"plotly-graph-div\" style=\"height:525px; width:100%;\"></div>            <script type=\"text/javascript\">                                    window.PLOTLYENV=window.PLOTLYENV || {};                                    if (document.getElementById(\"ffe6b244-f6a7-4a5a-a17d-e1ce3c4f85a3\")) {                    Plotly.newPlot(                        \"ffe6b244-f6a7-4a5a-a17d-e1ce3c4f85a3\",                        [{\"dimensions\":[{\"label\":\"Objective Value\",\"range\":[0.03555555555555556,0.06666666666666665],\"values\":[0.03555555555555556,0.06444444444444442,0.05555555555555558,0.06666666666666665,0.05777777777777782,0.04888888888888887,0.05777777777777782]},{\"label\":\"alpha\",\"range\":[-4.513089862877713,-1.191574353145898],\"ticktext\":[\"3.07e-05\",\"0.0001\",\"0.001\",\"0.01\",\"0.0643\"],\"tickvals\":[-4.513089862877713,-4,-3,-2,-1.191574353145898],\"values\":[-1.3277853198783514,-3.3450405652453945,-3.5375604582184934,-4.513089862877713,-3.5207089122704227,-1.191574353145898,-2.760880874001071]}],\"labelangle\":30,\"labelside\":\"bottom\",\"line\":{\"color\":[0.03555555555555556,0.06444444444444442,0.05555555555555558,0.06666666666666665,0.05777777777777782,0.04888888888888887,0.05777777777777782],\"colorbar\":{\"title\":{\"text\":\"Objective Value\"}},\"colorscale\":[[0.0,\"rgb(247,251,255)\"],[0.125,\"rgb(222,235,247)\"],[0.25,\"rgb(198,219,239)\"],[0.375,\"rgb(158,202,225)\"],[0.5,\"rgb(107,174,214)\"],[0.625,\"rgb(66,146,198)\"],[0.75,\"rgb(33,113,181)\"],[0.875,\"rgb(8,81,156)\"],[1.0,\"rgb(8,48,107)\"]],\"reversescale\":true,\"showscale\":true},\"type\":\"parcoords\"}],                        {\"title\":{\"text\":\"Parallel Coordinate Plot\"},\"template\":{\"data\":{\"bar\":[{\"error_x\":{\"color\":\"#2a3f5f\"},\"error_y\":{\"color\":\"#2a3f5f\"},\"marker\":{\"line\":{\"color\":\"#E5ECF6\",\"width\":0.5},\"pattern\":{\"fillmode\":\"overlay\",\"size\":10,\"solidity\":0.2}},\"type\":\"bar\"}],\"barpolar\":[{\"marker\":{\"line\":{\"color\":\"#E5ECF6\",\"width\":0.5},\"pattern\":{\"fillmode\":\"overlay\",\"size\":10,\"solidity\":0.2}},\"type\":\"barpolar\"}],\"carpet\":[{\"aaxis\":{\"endlinecolor\":\"#2a3f5f\",\"gridcolor\":\"white\",\"linecolor\":\"white\",\"minorgridcolor\":\"white\",\"startlinecolor\":\"#2a3f5f\"},\"baxis\":{\"endlinecolor\":\"#2a3f5f\",\"gridcolor\":\"white\",\"linecolor\":\"white\",\"minorgridcolor\":\"white\",\"startlinecolor\":\"#2a3f5f\"},\"type\":\"carpet\"}],\"choropleth\":[{\"colorbar\":{\"outlinewidth\":0,\"ticks\":\"\"},\"type\":\"choropleth\"}],\"contour\":[{\"colorbar\":{\"outlinewidth\":0,\"ticks\":\"\"},\"colorscale\":[[0.0,\"#0d0887\"],[0.1111111111111111,\"#46039f\"],[0.2222222222222222,\"#7201a8\"],[0.3333333333333333,\"#9c179e\"],[0.4444444444444444,\"#bd3786\"],[0.5555555555555556,\"#d8576b\"],[0.6666666666666666,\"#ed7953\"],[0.7777777777777778,\"#fb9f3a\"],[0.8888888888888888,\"#fdca26\"],[1.0,\"#f0f921\"]],\"type\":\"contour\"}],\"contourcarpet\":[{\"colorbar\":{\"outlinewidth\":0,\"ticks\":\"\"},\"type\":\"contourcarpet\"}],\"heatmap\":[{\"colorbar\":{\"outlinewidth\":0,\"ticks\":\"\"},\"colorscale\":[[0.0,\"#0d0887\"],[0.1111111111111111,\"#46039f\"],[0.2222222222222222,\"#7201a8\"],[0.3333333333333333,\"#9c179e\"],[0.4444444444444444,\"#bd3786\"],[0.5555555555555556,\"#d8576b\"],[0.6666666666666666,\"#ed7953\"],[0.7777777777777778,\"#fb9f3a\"],[0.8888888888888888,\"#fdca26\"],[1.0,\"#f0f921\"]],\"type\":\"heatmap\"}],\"heatmapgl\":[{\"colorbar\":{\"outlinewidth\":0,\"ticks\":\"\"},\"colorscale\":[[0.0,\"#0d0887\"],[0.1111111111111111,\"#46039f\"],[0.2222222222222222,\"#7201a8\"],[0.3333333333333333,\"#9c179e\"],[0.4444444444444444,\"#bd3786\"],[0.5555555555555556,\"#d8576b\"],[0.6666666666666666,\"#ed7953\"],[0.7777777777777778,\"#fb9f3a\"],[0.8888888888888888,\"#fdca26\"],[1.0,\"#f0f921\"]],\"type\":\"heatmapgl\"}],\"histogram\":[{\"marker\":{\"pattern\":{\"fillmode\":\"overlay\",\"size\":10,\"solidity\":0.2}},\"type\":\"histogram\"}],\"histogram2d\":[{\"colorbar\":{\"outlinewidth\":0,\"ticks\":\"\"},\"colorscale\":[[0.0,\"#0d0887\"],[0.1111111111111111,\"#46039f\"],[0.2222222222222222,\"#7201a8\"],[0.3333333333333333,\"#9c179e\"],[0.4444444444444444,\"#bd3786\"],[0.5555555555555556,\"#d8576b\"],[0.6666666666666666,\"#ed7953\"],[0.7777777777777778,\"#fb9f3a\"],[0.8888888888888888,\"#fdca26\"],[1.0,\"#f0f921\"]],\"type\":\"histogram2d\"}],\"histogram2dcontour\":[{\"colorbar\":{\"outlinewidth\":0,\"ticks\":\"\"},\"colorscale\":[[0.0,\"#0d0887\"],[0.1111111111111111,\"#46039f\"],[0.2222222222222222,\"#7201a8\"],[0.3333333333333333,\"#9c179e\"],[0.4444444444444444,\"#bd3786\"],[0.5555555555555556,\"#d8576b\"],[0.6666666666666666,\"#ed7953\"],[0.7777777777777778,\"#fb9f3a\"],[0.8888888888888888,\"#fdca26\"],[1.0,\"#f0f921\"]],\"type\":\"histogram2dcontour\"}],\"mesh3d\":[{\"colorbar\":{\"outlinewidth\":0,\"ticks\":\"\"},\"type\":\"mesh3d\"}],\"parcoords\":[{\"line\":{\"colorbar\":{\"outlinewidth\":0,\"ticks\":\"\"}},\"type\":\"parcoords\"}],\"pie\":[{\"automargin\":true,\"type\":\"pie\"}],\"scatter\":[{\"marker\":{\"colorbar\":{\"outlinewidth\":0,\"ticks\":\"\"}},\"type\":\"scatter\"}],\"scatter3d\":[{\"line\":{\"colorbar\":{\"outlinewidth\":0,\"ticks\":\"\"}},\"marker\":{\"colorbar\":{\"outlinewidth\":0,\"ticks\":\"\"}},\"type\":\"scatter3d\"}],\"scattercarpet\":[{\"marker\":{\"colorbar\":{\"outlinewidth\":0,\"ticks\":\"\"}},\"type\":\"scattercarpet\"}],\"scattergeo\":[{\"marker\":{\"colorbar\":{\"outlinewidth\":0,\"ticks\":\"\"}},\"type\":\"scattergeo\"}],\"scattergl\":[{\"marker\":{\"colorbar\":{\"outlinewidth\":0,\"ticks\":\"\"}},\"type\":\"scattergl\"}],\"scattermapbox\":[{\"marker\":{\"colorbar\":{\"outlinewidth\":0,\"ticks\":\"\"}},\"type\":\"scattermapbox\"}],\"scatterpolar\":[{\"marker\":{\"colorbar\":{\"outlinewidth\":0,\"ticks\":\"\"}},\"type\":\"scatterpolar\"}],\"scatterpolargl\":[{\"marker\":{\"colorbar\":{\"outlinewidth\":0,\"ticks\":\"\"}},\"type\":\"scatterpolargl\"}],\"scatterternary\":[{\"marker\":{\"colorbar\":{\"outlinewidth\":0,\"ticks\":\"\"}},\"type\":\"scatterternary\"}],\"surface\":[{\"colorbar\":{\"outlinewidth\":0,\"ticks\":\"\"},\"colorscale\":[[0.0,\"#0d0887\"],[0.1111111111111111,\"#46039f\"],[0.2222222222222222,\"#7201a8\"],[0.3333333333333333,\"#9c179e\"],[0.4444444444444444,\"#bd3786\"],[0.5555555555555556,\"#d8576b\"],[0.6666666666666666,\"#ed7953\"],[0.7777777777777778,\"#fb9f3a\"],[0.8888888888888888,\"#fdca26\"],[1.0,\"#f0f921\"]],\"type\":\"surface\"}],\"table\":[{\"cells\":{\"fill\":{\"color\":\"#EBF0F8\"},\"line\":{\"color\":\"white\"}},\"header\":{\"fill\":{\"color\":\"#C8D4E3\"},\"line\":{\"color\":\"white\"}},\"type\":\"table\"}]},\"layout\":{\"annotationdefaults\":{\"arrowcolor\":\"#2a3f5f\",\"arrowhead\":0,\"arrowwidth\":1},\"autotypenumbers\":\"strict\",\"coloraxis\":{\"colorbar\":{\"outlinewidth\":0,\"ticks\":\"\"}},\"colorscale\":{\"diverging\":[[0,\"#8e0152\"],[0.1,\"#c51b7d\"],[0.2,\"#de77ae\"],[0.3,\"#f1b6da\"],[0.4,\"#fde0ef\"],[0.5,\"#f7f7f7\"],[0.6,\"#e6f5d0\"],[0.7,\"#b8e186\"],[0.8,\"#7fbc41\"],[0.9,\"#4d9221\"],[1,\"#276419\"]],\"sequential\":[[0.0,\"#0d0887\"],[0.1111111111111111,\"#46039f\"],[0.2222222222222222,\"#7201a8\"],[0.3333333333333333,\"#9c179e\"],[0.4444444444444444,\"#bd3786\"],[0.5555555555555556,\"#d8576b\"],[0.6666666666666666,\"#ed7953\"],[0.7777777777777778,\"#fb9f3a\"],[0.8888888888888888,\"#fdca26\"],[1.0,\"#f0f921\"]],\"sequentialminus\":[[0.0,\"#0d0887\"],[0.1111111111111111,\"#46039f\"],[0.2222222222222222,\"#7201a8\"],[0.3333333333333333,\"#9c179e\"],[0.4444444444444444,\"#bd3786\"],[0.5555555555555556,\"#d8576b\"],[0.6666666666666666,\"#ed7953\"],[0.7777777777777778,\"#fb9f3a\"],[0.8888888888888888,\"#fdca26\"],[1.0,\"#f0f921\"]]},\"colorway\":[\"#636efa\",\"#EF553B\",\"#00cc96\",\"#ab63fa\",\"#FFA15A\",\"#19d3f3\",\"#FF6692\",\"#B6E880\",\"#FF97FF\",\"#FECB52\"],\"font\":{\"color\":\"#2a3f5f\"},\"geo\":{\"bgcolor\":\"white\",\"lakecolor\":\"white\",\"landcolor\":\"#E5ECF6\",\"showlakes\":true,\"showland\":true,\"subunitcolor\":\"white\"},\"hoverlabel\":{\"align\":\"left\"},\"hovermode\":\"closest\",\"mapbox\":{\"style\":\"light\"},\"paper_bgcolor\":\"white\",\"plot_bgcolor\":\"#E5ECF6\",\"polar\":{\"angularaxis\":{\"gridcolor\":\"white\",\"linecolor\":\"white\",\"ticks\":\"\"},\"bgcolor\":\"#E5ECF6\",\"radialaxis\":{\"gridcolor\":\"white\",\"linecolor\":\"white\",\"ticks\":\"\"}},\"scene\":{\"xaxis\":{\"backgroundcolor\":\"#E5ECF6\",\"gridcolor\":\"white\",\"gridwidth\":2,\"linecolor\":\"white\",\"showbackground\":true,\"ticks\":\"\",\"zerolinecolor\":\"white\"},\"yaxis\":{\"backgroundcolor\":\"#E5ECF6\",\"gridcolor\":\"white\",\"gridwidth\":2,\"linecolor\":\"white\",\"showbackground\":true,\"ticks\":\"\",\"zerolinecolor\":\"white\"},\"zaxis\":{\"backgroundcolor\":\"#E5ECF6\",\"gridcolor\":\"white\",\"gridwidth\":2,\"linecolor\":\"white\",\"showbackground\":true,\"ticks\":\"\",\"zerolinecolor\":\"white\"}},\"shapedefaults\":{\"line\":{\"color\":\"#2a3f5f\"}},\"ternary\":{\"aaxis\":{\"gridcolor\":\"white\",\"linecolor\":\"white\",\"ticks\":\"\"},\"baxis\":{\"gridcolor\":\"white\",\"linecolor\":\"white\",\"ticks\":\"\"},\"bgcolor\":\"#E5ECF6\",\"caxis\":{\"gridcolor\":\"white\",\"linecolor\":\"white\",\"ticks\":\"\"}},\"title\":{\"x\":0.05},\"xaxis\":{\"automargin\":true,\"gridcolor\":\"white\",\"linecolor\":\"white\",\"ticks\":\"\",\"title\":{\"standoff\":15},\"zerolinecolor\":\"white\",\"zerolinewidth\":2},\"yaxis\":{\"automargin\":true,\"gridcolor\":\"white\",\"linecolor\":\"white\",\"ticks\":\"\",\"title\":{\"standoff\":15},\"zerolinecolor\":\"white\",\"zerolinewidth\":2}}}},                        {\"responsive\": true}                    ).then(function(){\n",
              "                            \n",
              "var gd = document.getElementById('ffe6b244-f6a7-4a5a-a17d-e1ce3c4f85a3');\n",
              "var x = new MutationObserver(function (mutations, observer) {{\n",
              "        var display = window.getComputedStyle(gd).display;\n",
              "        if (!display || display === 'none') {{\n",
              "            console.log([gd, 'removed!']);\n",
              "            Plotly.purge(gd);\n",
              "            observer.disconnect();\n",
              "        }}\n",
              "}});\n",
              "\n",
              "// Listen for the removal of the full notebook cells\n",
              "var notebookContainer = gd.closest('#notebook-container');\n",
              "if (notebookContainer) {{\n",
              "    x.observe(notebookContainer, {childList: true});\n",
              "}}\n",
              "\n",
              "// Listen for the clearing of the current output cell\n",
              "var outputEl = gd.closest('.output');\n",
              "if (outputEl) {{\n",
              "    x.observe(outputEl, {childList: true});\n",
              "}}\n",
              "\n",
              "                        })                };                            </script>        </div>\n",
              "</body>\n",
              "</html>"
            ]
          },
          "metadata": {}
        }
      ]
    },
    {
      "cell_type": "code",
      "source": [
        "plot_slice(study)"
      ],
      "metadata": {
        "colab": {
          "base_uri": "https://localhost:8080/",
          "height": 542
        },
        "id": "ZZ79H6aQ0fZ4",
        "outputId": "0bf81a0f-d074-4bb1-8ba9-8e196f8c5819"
      },
      "execution_count": 12,
      "outputs": [
        {
          "output_type": "display_data",
          "data": {
            "text/html": [
              "<html>\n",
              "<head><meta charset=\"utf-8\" /></head>\n",
              "<body>\n",
              "    <div>            <script src=\"https://cdnjs.cloudflare.com/ajax/libs/mathjax/2.7.5/MathJax.js?config=TeX-AMS-MML_SVG\"></script><script type=\"text/javascript\">if (window.MathJax) {MathJax.Hub.Config({SVG: {font: \"STIX-Web\"}});}</script>                <script type=\"text/javascript\">window.PlotlyConfig = {MathJaxConfig: 'local'};</script>\n",
              "        <script src=\"https://cdn.plot.ly/plotly-2.8.3.min.js\"></script>                <div id=\"543a42b9-71da-4f68-b054-0a45270eb39a\" class=\"plotly-graph-div\" style=\"height:525px; width:100%;\"></div>            <script type=\"text/javascript\">                                    window.PLOTLYENV=window.PLOTLYENV || {};                                    if (document.getElementById(\"543a42b9-71da-4f68-b054-0a45270eb39a\")) {                    Plotly.newPlot(                        \"543a42b9-71da-4f68-b054-0a45270eb39a\",                        [{\"marker\":{\"color\":[0,1,2,3,4,7,14],\"colorbar\":{\"title\":{\"text\":\"Trial\"},\"x\":1.0,\"xpad\":40},\"colorscale\":[[0.0,\"rgb(247,251,255)\"],[0.125,\"rgb(222,235,247)\"],[0.25,\"rgb(198,219,239)\"],[0.375,\"rgb(158,202,225)\"],[0.5,\"rgb(107,174,214)\"],[0.625,\"rgb(66,146,198)\"],[0.75,\"rgb(33,113,181)\"],[0.875,\"rgb(8,81,156)\"],[1.0,\"rgb(8,48,107)\"]],\"line\":{\"color\":\"Grey\",\"width\":0.5}},\"mode\":\"markers\",\"showlegend\":false,\"x\":[0.04701264437266902,0.00045181374077340927,0.0002900277422410202,3.0683870215007805e-05,0.0003015026181263784,0.06433179166765084,0.0017342796415195125],\"y\":[0.03555555555555556,0.06444444444444442,0.05555555555555558,0.06666666666666665,0.05777777777777782,0.04888888888888887,0.05777777777777782],\"type\":\"scatter\"}],                        {\"title\":{\"text\":\"Slice Plot\"},\"template\":{\"data\":{\"bar\":[{\"error_x\":{\"color\":\"#2a3f5f\"},\"error_y\":{\"color\":\"#2a3f5f\"},\"marker\":{\"line\":{\"color\":\"#E5ECF6\",\"width\":0.5},\"pattern\":{\"fillmode\":\"overlay\",\"size\":10,\"solidity\":0.2}},\"type\":\"bar\"}],\"barpolar\":[{\"marker\":{\"line\":{\"color\":\"#E5ECF6\",\"width\":0.5},\"pattern\":{\"fillmode\":\"overlay\",\"size\":10,\"solidity\":0.2}},\"type\":\"barpolar\"}],\"carpet\":[{\"aaxis\":{\"endlinecolor\":\"#2a3f5f\",\"gridcolor\":\"white\",\"linecolor\":\"white\",\"minorgridcolor\":\"white\",\"startlinecolor\":\"#2a3f5f\"},\"baxis\":{\"endlinecolor\":\"#2a3f5f\",\"gridcolor\":\"white\",\"linecolor\":\"white\",\"minorgridcolor\":\"white\",\"startlinecolor\":\"#2a3f5f\"},\"type\":\"carpet\"}],\"choropleth\":[{\"colorbar\":{\"outlinewidth\":0,\"ticks\":\"\"},\"type\":\"choropleth\"}],\"contour\":[{\"colorbar\":{\"outlinewidth\":0,\"ticks\":\"\"},\"colorscale\":[[0.0,\"#0d0887\"],[0.1111111111111111,\"#46039f\"],[0.2222222222222222,\"#7201a8\"],[0.3333333333333333,\"#9c179e\"],[0.4444444444444444,\"#bd3786\"],[0.5555555555555556,\"#d8576b\"],[0.6666666666666666,\"#ed7953\"],[0.7777777777777778,\"#fb9f3a\"],[0.8888888888888888,\"#fdca26\"],[1.0,\"#f0f921\"]],\"type\":\"contour\"}],\"contourcarpet\":[{\"colorbar\":{\"outlinewidth\":0,\"ticks\":\"\"},\"type\":\"contourcarpet\"}],\"heatmap\":[{\"colorbar\":{\"outlinewidth\":0,\"ticks\":\"\"},\"colorscale\":[[0.0,\"#0d0887\"],[0.1111111111111111,\"#46039f\"],[0.2222222222222222,\"#7201a8\"],[0.3333333333333333,\"#9c179e\"],[0.4444444444444444,\"#bd3786\"],[0.5555555555555556,\"#d8576b\"],[0.6666666666666666,\"#ed7953\"],[0.7777777777777778,\"#fb9f3a\"],[0.8888888888888888,\"#fdca26\"],[1.0,\"#f0f921\"]],\"type\":\"heatmap\"}],\"heatmapgl\":[{\"colorbar\":{\"outlinewidth\":0,\"ticks\":\"\"},\"colorscale\":[[0.0,\"#0d0887\"],[0.1111111111111111,\"#46039f\"],[0.2222222222222222,\"#7201a8\"],[0.3333333333333333,\"#9c179e\"],[0.4444444444444444,\"#bd3786\"],[0.5555555555555556,\"#d8576b\"],[0.6666666666666666,\"#ed7953\"],[0.7777777777777778,\"#fb9f3a\"],[0.8888888888888888,\"#fdca26\"],[1.0,\"#f0f921\"]],\"type\":\"heatmapgl\"}],\"histogram\":[{\"marker\":{\"pattern\":{\"fillmode\":\"overlay\",\"size\":10,\"solidity\":0.2}},\"type\":\"histogram\"}],\"histogram2d\":[{\"colorbar\":{\"outlinewidth\":0,\"ticks\":\"\"},\"colorscale\":[[0.0,\"#0d0887\"],[0.1111111111111111,\"#46039f\"],[0.2222222222222222,\"#7201a8\"],[0.3333333333333333,\"#9c179e\"],[0.4444444444444444,\"#bd3786\"],[0.5555555555555556,\"#d8576b\"],[0.6666666666666666,\"#ed7953\"],[0.7777777777777778,\"#fb9f3a\"],[0.8888888888888888,\"#fdca26\"],[1.0,\"#f0f921\"]],\"type\":\"histogram2d\"}],\"histogram2dcontour\":[{\"colorbar\":{\"outlinewidth\":0,\"ticks\":\"\"},\"colorscale\":[[0.0,\"#0d0887\"],[0.1111111111111111,\"#46039f\"],[0.2222222222222222,\"#7201a8\"],[0.3333333333333333,\"#9c179e\"],[0.4444444444444444,\"#bd3786\"],[0.5555555555555556,\"#d8576b\"],[0.6666666666666666,\"#ed7953\"],[0.7777777777777778,\"#fb9f3a\"],[0.8888888888888888,\"#fdca26\"],[1.0,\"#f0f921\"]],\"type\":\"histogram2dcontour\"}],\"mesh3d\":[{\"colorbar\":{\"outlinewidth\":0,\"ticks\":\"\"},\"type\":\"mesh3d\"}],\"parcoords\":[{\"line\":{\"colorbar\":{\"outlinewidth\":0,\"ticks\":\"\"}},\"type\":\"parcoords\"}],\"pie\":[{\"automargin\":true,\"type\":\"pie\"}],\"scatter\":[{\"marker\":{\"colorbar\":{\"outlinewidth\":0,\"ticks\":\"\"}},\"type\":\"scatter\"}],\"scatter3d\":[{\"line\":{\"colorbar\":{\"outlinewidth\":0,\"ticks\":\"\"}},\"marker\":{\"colorbar\":{\"outlinewidth\":0,\"ticks\":\"\"}},\"type\":\"scatter3d\"}],\"scattercarpet\":[{\"marker\":{\"colorbar\":{\"outlinewidth\":0,\"ticks\":\"\"}},\"type\":\"scattercarpet\"}],\"scattergeo\":[{\"marker\":{\"colorbar\":{\"outlinewidth\":0,\"ticks\":\"\"}},\"type\":\"scattergeo\"}],\"scattergl\":[{\"marker\":{\"colorbar\":{\"outlinewidth\":0,\"ticks\":\"\"}},\"type\":\"scattergl\"}],\"scattermapbox\":[{\"marker\":{\"colorbar\":{\"outlinewidth\":0,\"ticks\":\"\"}},\"type\":\"scattermapbox\"}],\"scatterpolar\":[{\"marker\":{\"colorbar\":{\"outlinewidth\":0,\"ticks\":\"\"}},\"type\":\"scatterpolar\"}],\"scatterpolargl\":[{\"marker\":{\"colorbar\":{\"outlinewidth\":0,\"ticks\":\"\"}},\"type\":\"scatterpolargl\"}],\"scatterternary\":[{\"marker\":{\"colorbar\":{\"outlinewidth\":0,\"ticks\":\"\"}},\"type\":\"scatterternary\"}],\"surface\":[{\"colorbar\":{\"outlinewidth\":0,\"ticks\":\"\"},\"colorscale\":[[0.0,\"#0d0887\"],[0.1111111111111111,\"#46039f\"],[0.2222222222222222,\"#7201a8\"],[0.3333333333333333,\"#9c179e\"],[0.4444444444444444,\"#bd3786\"],[0.5555555555555556,\"#d8576b\"],[0.6666666666666666,\"#ed7953\"],[0.7777777777777778,\"#fb9f3a\"],[0.8888888888888888,\"#fdca26\"],[1.0,\"#f0f921\"]],\"type\":\"surface\"}],\"table\":[{\"cells\":{\"fill\":{\"color\":\"#EBF0F8\"},\"line\":{\"color\":\"white\"}},\"header\":{\"fill\":{\"color\":\"#C8D4E3\"},\"line\":{\"color\":\"white\"}},\"type\":\"table\"}]},\"layout\":{\"annotationdefaults\":{\"arrowcolor\":\"#2a3f5f\",\"arrowhead\":0,\"arrowwidth\":1},\"autotypenumbers\":\"strict\",\"coloraxis\":{\"colorbar\":{\"outlinewidth\":0,\"ticks\":\"\"}},\"colorscale\":{\"diverging\":[[0,\"#8e0152\"],[0.1,\"#c51b7d\"],[0.2,\"#de77ae\"],[0.3,\"#f1b6da\"],[0.4,\"#fde0ef\"],[0.5,\"#f7f7f7\"],[0.6,\"#e6f5d0\"],[0.7,\"#b8e186\"],[0.8,\"#7fbc41\"],[0.9,\"#4d9221\"],[1,\"#276419\"]],\"sequential\":[[0.0,\"#0d0887\"],[0.1111111111111111,\"#46039f\"],[0.2222222222222222,\"#7201a8\"],[0.3333333333333333,\"#9c179e\"],[0.4444444444444444,\"#bd3786\"],[0.5555555555555556,\"#d8576b\"],[0.6666666666666666,\"#ed7953\"],[0.7777777777777778,\"#fb9f3a\"],[0.8888888888888888,\"#fdca26\"],[1.0,\"#f0f921\"]],\"sequentialminus\":[[0.0,\"#0d0887\"],[0.1111111111111111,\"#46039f\"],[0.2222222222222222,\"#7201a8\"],[0.3333333333333333,\"#9c179e\"],[0.4444444444444444,\"#bd3786\"],[0.5555555555555556,\"#d8576b\"],[0.6666666666666666,\"#ed7953\"],[0.7777777777777778,\"#fb9f3a\"],[0.8888888888888888,\"#fdca26\"],[1.0,\"#f0f921\"]]},\"colorway\":[\"#636efa\",\"#EF553B\",\"#00cc96\",\"#ab63fa\",\"#FFA15A\",\"#19d3f3\",\"#FF6692\",\"#B6E880\",\"#FF97FF\",\"#FECB52\"],\"font\":{\"color\":\"#2a3f5f\"},\"geo\":{\"bgcolor\":\"white\",\"lakecolor\":\"white\",\"landcolor\":\"#E5ECF6\",\"showlakes\":true,\"showland\":true,\"subunitcolor\":\"white\"},\"hoverlabel\":{\"align\":\"left\"},\"hovermode\":\"closest\",\"mapbox\":{\"style\":\"light\"},\"paper_bgcolor\":\"white\",\"plot_bgcolor\":\"#E5ECF6\",\"polar\":{\"angularaxis\":{\"gridcolor\":\"white\",\"linecolor\":\"white\",\"ticks\":\"\"},\"bgcolor\":\"#E5ECF6\",\"radialaxis\":{\"gridcolor\":\"white\",\"linecolor\":\"white\",\"ticks\":\"\"}},\"scene\":{\"xaxis\":{\"backgroundcolor\":\"#E5ECF6\",\"gridcolor\":\"white\",\"gridwidth\":2,\"linecolor\":\"white\",\"showbackground\":true,\"ticks\":\"\",\"zerolinecolor\":\"white\"},\"yaxis\":{\"backgroundcolor\":\"#E5ECF6\",\"gridcolor\":\"white\",\"gridwidth\":2,\"linecolor\":\"white\",\"showbackground\":true,\"ticks\":\"\",\"zerolinecolor\":\"white\"},\"zaxis\":{\"backgroundcolor\":\"#E5ECF6\",\"gridcolor\":\"white\",\"gridwidth\":2,\"linecolor\":\"white\",\"showbackground\":true,\"ticks\":\"\",\"zerolinecolor\":\"white\"}},\"shapedefaults\":{\"line\":{\"color\":\"#2a3f5f\"}},\"ternary\":{\"aaxis\":{\"gridcolor\":\"white\",\"linecolor\":\"white\",\"ticks\":\"\"},\"baxis\":{\"gridcolor\":\"white\",\"linecolor\":\"white\",\"ticks\":\"\"},\"bgcolor\":\"#E5ECF6\",\"caxis\":{\"gridcolor\":\"white\",\"linecolor\":\"white\",\"ticks\":\"\"}},\"title\":{\"x\":0.05},\"xaxis\":{\"automargin\":true,\"gridcolor\":\"white\",\"linecolor\":\"white\",\"ticks\":\"\",\"title\":{\"standoff\":15},\"zerolinecolor\":\"white\",\"zerolinewidth\":2},\"yaxis\":{\"automargin\":true,\"gridcolor\":\"white\",\"linecolor\":\"white\",\"ticks\":\"\",\"title\":{\"standoff\":15},\"zerolinecolor\":\"white\",\"zerolinewidth\":2}}},\"xaxis\":{\"title\":{\"text\":\"alpha\"},\"type\":\"log\"},\"yaxis\":{\"title\":{\"text\":\"Objective Value\"}}},                        {\"responsive\": true}                    ).then(function(){\n",
              "                            \n",
              "var gd = document.getElementById('543a42b9-71da-4f68-b054-0a45270eb39a');\n",
              "var x = new MutationObserver(function (mutations, observer) {{\n",
              "        var display = window.getComputedStyle(gd).display;\n",
              "        if (!display || display === 'none') {{\n",
              "            console.log([gd, 'removed!']);\n",
              "            Plotly.purge(gd);\n",
              "            observer.disconnect();\n",
              "        }}\n",
              "}});\n",
              "\n",
              "// Listen for the removal of the full notebook cells\n",
              "var notebookContainer = gd.closest('#notebook-container');\n",
              "if (notebookContainer) {{\n",
              "    x.observe(notebookContainer, {childList: true});\n",
              "}}\n",
              "\n",
              "// Listen for the clearing of the current output cell\n",
              "var outputEl = gd.closest('.output');\n",
              "if (outputEl) {{\n",
              "    x.observe(outputEl, {childList: true});\n",
              "}}\n",
              "\n",
              "                        })                };                            </script>        </div>\n",
              "</body>\n",
              "</html>"
            ]
          },
          "metadata": {}
        }
      ]
    },
    {
      "cell_type": "code",
      "source": [
        "plot_param_importances(study)"
      ],
      "metadata": {
        "colab": {
          "base_uri": "https://localhost:8080/",
          "height": 542
        },
        "id": "cjkR871Z0iGY",
        "outputId": "94734684-62a8-42b6-c4eb-b46a5df01319"
      },
      "execution_count": 13,
      "outputs": [
        {
          "output_type": "display_data",
          "data": {
            "text/html": [
              "<html>\n",
              "<head><meta charset=\"utf-8\" /></head>\n",
              "<body>\n",
              "    <div>            <script src=\"https://cdnjs.cloudflare.com/ajax/libs/mathjax/2.7.5/MathJax.js?config=TeX-AMS-MML_SVG\"></script><script type=\"text/javascript\">if (window.MathJax) {MathJax.Hub.Config({SVG: {font: \"STIX-Web\"}});}</script>                <script type=\"text/javascript\">window.PlotlyConfig = {MathJaxConfig: 'local'};</script>\n",
              "        <script src=\"https://cdn.plot.ly/plotly-2.8.3.min.js\"></script>                <div id=\"97f31f32-5d24-4c19-896d-e64996e16106\" class=\"plotly-graph-div\" style=\"height:525px; width:100%;\"></div>            <script type=\"text/javascript\">                                    window.PLOTLYENV=window.PLOTLYENV || {};                                    if (document.getElementById(\"97f31f32-5d24-4c19-896d-e64996e16106\")) {                    Plotly.newPlot(                        \"97f31f32-5d24-4c19-896d-e64996e16106\",                        [{\"cliponaxis\":false,\"hovertemplate\":[\"alpha (FloatDistribution): 1.0<extra></extra>\"],\"marker\":{\"color\":\"rgb(66,146,198)\"},\"orientation\":\"h\",\"text\":[\"1.00\"],\"textposition\":\"outside\",\"x\":[1.0],\"y\":[\"alpha\"],\"type\":\"bar\"}],                        {\"showlegend\":false,\"title\":{\"text\":\"Hyperparameter Importances\"},\"xaxis\":{\"title\":{\"text\":\"Importance for Objective Value\"}},\"yaxis\":{\"title\":{\"text\":\"Hyperparameter\"}},\"template\":{\"data\":{\"bar\":[{\"error_x\":{\"color\":\"#2a3f5f\"},\"error_y\":{\"color\":\"#2a3f5f\"},\"marker\":{\"line\":{\"color\":\"#E5ECF6\",\"width\":0.5},\"pattern\":{\"fillmode\":\"overlay\",\"size\":10,\"solidity\":0.2}},\"type\":\"bar\"}],\"barpolar\":[{\"marker\":{\"line\":{\"color\":\"#E5ECF6\",\"width\":0.5},\"pattern\":{\"fillmode\":\"overlay\",\"size\":10,\"solidity\":0.2}},\"type\":\"barpolar\"}],\"carpet\":[{\"aaxis\":{\"endlinecolor\":\"#2a3f5f\",\"gridcolor\":\"white\",\"linecolor\":\"white\",\"minorgridcolor\":\"white\",\"startlinecolor\":\"#2a3f5f\"},\"baxis\":{\"endlinecolor\":\"#2a3f5f\",\"gridcolor\":\"white\",\"linecolor\":\"white\",\"minorgridcolor\":\"white\",\"startlinecolor\":\"#2a3f5f\"},\"type\":\"carpet\"}],\"choropleth\":[{\"colorbar\":{\"outlinewidth\":0,\"ticks\":\"\"},\"type\":\"choropleth\"}],\"contour\":[{\"colorbar\":{\"outlinewidth\":0,\"ticks\":\"\"},\"colorscale\":[[0.0,\"#0d0887\"],[0.1111111111111111,\"#46039f\"],[0.2222222222222222,\"#7201a8\"],[0.3333333333333333,\"#9c179e\"],[0.4444444444444444,\"#bd3786\"],[0.5555555555555556,\"#d8576b\"],[0.6666666666666666,\"#ed7953\"],[0.7777777777777778,\"#fb9f3a\"],[0.8888888888888888,\"#fdca26\"],[1.0,\"#f0f921\"]],\"type\":\"contour\"}],\"contourcarpet\":[{\"colorbar\":{\"outlinewidth\":0,\"ticks\":\"\"},\"type\":\"contourcarpet\"}],\"heatmap\":[{\"colorbar\":{\"outlinewidth\":0,\"ticks\":\"\"},\"colorscale\":[[0.0,\"#0d0887\"],[0.1111111111111111,\"#46039f\"],[0.2222222222222222,\"#7201a8\"],[0.3333333333333333,\"#9c179e\"],[0.4444444444444444,\"#bd3786\"],[0.5555555555555556,\"#d8576b\"],[0.6666666666666666,\"#ed7953\"],[0.7777777777777778,\"#fb9f3a\"],[0.8888888888888888,\"#fdca26\"],[1.0,\"#f0f921\"]],\"type\":\"heatmap\"}],\"heatmapgl\":[{\"colorbar\":{\"outlinewidth\":0,\"ticks\":\"\"},\"colorscale\":[[0.0,\"#0d0887\"],[0.1111111111111111,\"#46039f\"],[0.2222222222222222,\"#7201a8\"],[0.3333333333333333,\"#9c179e\"],[0.4444444444444444,\"#bd3786\"],[0.5555555555555556,\"#d8576b\"],[0.6666666666666666,\"#ed7953\"],[0.7777777777777778,\"#fb9f3a\"],[0.8888888888888888,\"#fdca26\"],[1.0,\"#f0f921\"]],\"type\":\"heatmapgl\"}],\"histogram\":[{\"marker\":{\"pattern\":{\"fillmode\":\"overlay\",\"size\":10,\"solidity\":0.2}},\"type\":\"histogram\"}],\"histogram2d\":[{\"colorbar\":{\"outlinewidth\":0,\"ticks\":\"\"},\"colorscale\":[[0.0,\"#0d0887\"],[0.1111111111111111,\"#46039f\"],[0.2222222222222222,\"#7201a8\"],[0.3333333333333333,\"#9c179e\"],[0.4444444444444444,\"#bd3786\"],[0.5555555555555556,\"#d8576b\"],[0.6666666666666666,\"#ed7953\"],[0.7777777777777778,\"#fb9f3a\"],[0.8888888888888888,\"#fdca26\"],[1.0,\"#f0f921\"]],\"type\":\"histogram2d\"}],\"histogram2dcontour\":[{\"colorbar\":{\"outlinewidth\":0,\"ticks\":\"\"},\"colorscale\":[[0.0,\"#0d0887\"],[0.1111111111111111,\"#46039f\"],[0.2222222222222222,\"#7201a8\"],[0.3333333333333333,\"#9c179e\"],[0.4444444444444444,\"#bd3786\"],[0.5555555555555556,\"#d8576b\"],[0.6666666666666666,\"#ed7953\"],[0.7777777777777778,\"#fb9f3a\"],[0.8888888888888888,\"#fdca26\"],[1.0,\"#f0f921\"]],\"type\":\"histogram2dcontour\"}],\"mesh3d\":[{\"colorbar\":{\"outlinewidth\":0,\"ticks\":\"\"},\"type\":\"mesh3d\"}],\"parcoords\":[{\"line\":{\"colorbar\":{\"outlinewidth\":0,\"ticks\":\"\"}},\"type\":\"parcoords\"}],\"pie\":[{\"automargin\":true,\"type\":\"pie\"}],\"scatter\":[{\"marker\":{\"colorbar\":{\"outlinewidth\":0,\"ticks\":\"\"}},\"type\":\"scatter\"}],\"scatter3d\":[{\"line\":{\"colorbar\":{\"outlinewidth\":0,\"ticks\":\"\"}},\"marker\":{\"colorbar\":{\"outlinewidth\":0,\"ticks\":\"\"}},\"type\":\"scatter3d\"}],\"scattercarpet\":[{\"marker\":{\"colorbar\":{\"outlinewidth\":0,\"ticks\":\"\"}},\"type\":\"scattercarpet\"}],\"scattergeo\":[{\"marker\":{\"colorbar\":{\"outlinewidth\":0,\"ticks\":\"\"}},\"type\":\"scattergeo\"}],\"scattergl\":[{\"marker\":{\"colorbar\":{\"outlinewidth\":0,\"ticks\":\"\"}},\"type\":\"scattergl\"}],\"scattermapbox\":[{\"marker\":{\"colorbar\":{\"outlinewidth\":0,\"ticks\":\"\"}},\"type\":\"scattermapbox\"}],\"scatterpolar\":[{\"marker\":{\"colorbar\":{\"outlinewidth\":0,\"ticks\":\"\"}},\"type\":\"scatterpolar\"}],\"scatterpolargl\":[{\"marker\":{\"colorbar\":{\"outlinewidth\":0,\"ticks\":\"\"}},\"type\":\"scatterpolargl\"}],\"scatterternary\":[{\"marker\":{\"colorbar\":{\"outlinewidth\":0,\"ticks\":\"\"}},\"type\":\"scatterternary\"}],\"surface\":[{\"colorbar\":{\"outlinewidth\":0,\"ticks\":\"\"},\"colorscale\":[[0.0,\"#0d0887\"],[0.1111111111111111,\"#46039f\"],[0.2222222222222222,\"#7201a8\"],[0.3333333333333333,\"#9c179e\"],[0.4444444444444444,\"#bd3786\"],[0.5555555555555556,\"#d8576b\"],[0.6666666666666666,\"#ed7953\"],[0.7777777777777778,\"#fb9f3a\"],[0.8888888888888888,\"#fdca26\"],[1.0,\"#f0f921\"]],\"type\":\"surface\"}],\"table\":[{\"cells\":{\"fill\":{\"color\":\"#EBF0F8\"},\"line\":{\"color\":\"white\"}},\"header\":{\"fill\":{\"color\":\"#C8D4E3\"},\"line\":{\"color\":\"white\"}},\"type\":\"table\"}]},\"layout\":{\"annotationdefaults\":{\"arrowcolor\":\"#2a3f5f\",\"arrowhead\":0,\"arrowwidth\":1},\"autotypenumbers\":\"strict\",\"coloraxis\":{\"colorbar\":{\"outlinewidth\":0,\"ticks\":\"\"}},\"colorscale\":{\"diverging\":[[0,\"#8e0152\"],[0.1,\"#c51b7d\"],[0.2,\"#de77ae\"],[0.3,\"#f1b6da\"],[0.4,\"#fde0ef\"],[0.5,\"#f7f7f7\"],[0.6,\"#e6f5d0\"],[0.7,\"#b8e186\"],[0.8,\"#7fbc41\"],[0.9,\"#4d9221\"],[1,\"#276419\"]],\"sequential\":[[0.0,\"#0d0887\"],[0.1111111111111111,\"#46039f\"],[0.2222222222222222,\"#7201a8\"],[0.3333333333333333,\"#9c179e\"],[0.4444444444444444,\"#bd3786\"],[0.5555555555555556,\"#d8576b\"],[0.6666666666666666,\"#ed7953\"],[0.7777777777777778,\"#fb9f3a\"],[0.8888888888888888,\"#fdca26\"],[1.0,\"#f0f921\"]],\"sequentialminus\":[[0.0,\"#0d0887\"],[0.1111111111111111,\"#46039f\"],[0.2222222222222222,\"#7201a8\"],[0.3333333333333333,\"#9c179e\"],[0.4444444444444444,\"#bd3786\"],[0.5555555555555556,\"#d8576b\"],[0.6666666666666666,\"#ed7953\"],[0.7777777777777778,\"#fb9f3a\"],[0.8888888888888888,\"#fdca26\"],[1.0,\"#f0f921\"]]},\"colorway\":[\"#636efa\",\"#EF553B\",\"#00cc96\",\"#ab63fa\",\"#FFA15A\",\"#19d3f3\",\"#FF6692\",\"#B6E880\",\"#FF97FF\",\"#FECB52\"],\"font\":{\"color\":\"#2a3f5f\"},\"geo\":{\"bgcolor\":\"white\",\"lakecolor\":\"white\",\"landcolor\":\"#E5ECF6\",\"showlakes\":true,\"showland\":true,\"subunitcolor\":\"white\"},\"hoverlabel\":{\"align\":\"left\"},\"hovermode\":\"closest\",\"mapbox\":{\"style\":\"light\"},\"paper_bgcolor\":\"white\",\"plot_bgcolor\":\"#E5ECF6\",\"polar\":{\"angularaxis\":{\"gridcolor\":\"white\",\"linecolor\":\"white\",\"ticks\":\"\"},\"bgcolor\":\"#E5ECF6\",\"radialaxis\":{\"gridcolor\":\"white\",\"linecolor\":\"white\",\"ticks\":\"\"}},\"scene\":{\"xaxis\":{\"backgroundcolor\":\"#E5ECF6\",\"gridcolor\":\"white\",\"gridwidth\":2,\"linecolor\":\"white\",\"showbackground\":true,\"ticks\":\"\",\"zerolinecolor\":\"white\"},\"yaxis\":{\"backgroundcolor\":\"#E5ECF6\",\"gridcolor\":\"white\",\"gridwidth\":2,\"linecolor\":\"white\",\"showbackground\":true,\"ticks\":\"\",\"zerolinecolor\":\"white\"},\"zaxis\":{\"backgroundcolor\":\"#E5ECF6\",\"gridcolor\":\"white\",\"gridwidth\":2,\"linecolor\":\"white\",\"showbackground\":true,\"ticks\":\"\",\"zerolinecolor\":\"white\"}},\"shapedefaults\":{\"line\":{\"color\":\"#2a3f5f\"}},\"ternary\":{\"aaxis\":{\"gridcolor\":\"white\",\"linecolor\":\"white\",\"ticks\":\"\"},\"baxis\":{\"gridcolor\":\"white\",\"linecolor\":\"white\",\"ticks\":\"\"},\"bgcolor\":\"#E5ECF6\",\"caxis\":{\"gridcolor\":\"white\",\"linecolor\":\"white\",\"ticks\":\"\"}},\"title\":{\"x\":0.05},\"xaxis\":{\"automargin\":true,\"gridcolor\":\"white\",\"linecolor\":\"white\",\"ticks\":\"\",\"title\":{\"standoff\":15},\"zerolinecolor\":\"white\",\"zerolinewidth\":2},\"yaxis\":{\"automargin\":true,\"gridcolor\":\"white\",\"linecolor\":\"white\",\"ticks\":\"\",\"title\":{\"standoff\":15},\"zerolinecolor\":\"white\",\"zerolinewidth\":2}}}},                        {\"responsive\": true}                    ).then(function(){\n",
              "                            \n",
              "var gd = document.getElementById('97f31f32-5d24-4c19-896d-e64996e16106');\n",
              "var x = new MutationObserver(function (mutations, observer) {{\n",
              "        var display = window.getComputedStyle(gd).display;\n",
              "        if (!display || display === 'none') {{\n",
              "            console.log([gd, 'removed!']);\n",
              "            Plotly.purge(gd);\n",
              "            observer.disconnect();\n",
              "        }}\n",
              "}});\n",
              "\n",
              "// Listen for the removal of the full notebook cells\n",
              "var notebookContainer = gd.closest('#notebook-container');\n",
              "if (notebookContainer) {{\n",
              "    x.observe(notebookContainer, {childList: true});\n",
              "}}\n",
              "\n",
              "// Listen for the clearing of the current output cell\n",
              "var outputEl = gd.closest('.output');\n",
              "if (outputEl) {{\n",
              "    x.observe(outputEl, {childList: true});\n",
              "}}\n",
              "\n",
              "                        })                };                            </script>        </div>\n",
              "</body>\n",
              "</html>"
            ]
          },
          "metadata": {}
        }
      ]
    },
    {
      "cell_type": "code",
      "source": [
        "plot_edf(study)"
      ],
      "metadata": {
        "id": "ttt6ZQNI0llb",
        "outputId": "dde7f6cc-7290-4ae5-a0cd-8e6da4a73e14",
        "colab": {
          "base_uri": "https://localhost:8080/",
          "height": 542
        }
      },
      "execution_count": 14,
      "outputs": [
        {
          "output_type": "display_data",
          "data": {
            "text/html": [
              "<html>\n",
              "<head><meta charset=\"utf-8\" /></head>\n",
              "<body>\n",
              "    <div>            <script src=\"https://cdnjs.cloudflare.com/ajax/libs/mathjax/2.7.5/MathJax.js?config=TeX-AMS-MML_SVG\"></script><script type=\"text/javascript\">if (window.MathJax) {MathJax.Hub.Config({SVG: {font: \"STIX-Web\"}});}</script>                <script type=\"text/javascript\">window.PlotlyConfig = {MathJaxConfig: 'local'};</script>\n",
              "        <script src=\"https://cdn.plot.ly/plotly-2.8.3.min.js\"></script>                <div id=\"e381eb89-6d5d-48d5-9a59-f300d1fb443d\" class=\"plotly-graph-div\" style=\"height:525px; width:100%;\"></div>            <script type=\"text/javascript\">                                    window.PLOTLYENV=window.PLOTLYENV || {};                                    if (document.getElementById(\"e381eb89-6d5d-48d5-9a59-f300d1fb443d\")) {                    Plotly.newPlot(                        \"e381eb89-6d5d-48d5-9a59-f300d1fb443d\",                        [{\"mode\":\"lines\",\"name\":\"no-name-4df82678-0827-494f-9088-c55728dcbe68\",\"x\":[0.03555555555555556,0.03586980920314254,0.036184062850729524,0.0364983164983165,0.036812570145903487,0.037126823793490464,0.03744107744107745,0.037755331088664426,0.03806958473625141,0.03838383838383839,0.038698092031425366,0.03901234567901235,0.03932659932659933,0.03964085297418631,0.03995510662177329,0.040269360269360274,0.04058361391694725,0.040897867564534236,0.041212121212121214,0.0415263748597082,0.041840628507295176,0.04215488215488215,0.04246913580246914,0.042783389450056115,0.0430976430976431,0.04341189674523008,0.04372615039281706,0.04404040404040404,0.044354657687991024,0.044668911335578,0.044983164983164986,0.045297418630751964,0.04561167227833894,0.045925925925925926,0.04624017957351291,0.04655443322109989,0.046868686868686865,0.04718294051627385,0.04749719416386083,0.04781144781144781,0.04812570145903479,0.048439955106621774,0.04875420875420875,0.04906846240179573,0.04938271604938271,0.0496969696969697,0.050011223344556675,0.05032547699214365,0.05063973063973064,0.050953984287317615,0.05126823793490459,0.05158249158249158,0.05189674523007856,0.05221099887766554,0.05252525252525252,0.0528395061728395,0.053153759820426486,0.05346801346801346,0.05378226711560044,0.054096520763187425,0.0544107744107744,0.05472502805836138,0.055039281705948365,0.05535353535353535,0.05566778900112233,0.055982042648709304,0.05629629629629629,0.05661054994388327,0.05692480359147025,0.05723905723905723,0.05755331088664421,0.05786756453423119,0.05818181818181817,0.05849607182940515,0.05881032547699214,0.059124579124579114,0.05943883277216609,0.059753086419753076,0.06006734006734006,0.06038159371492704,0.060695847362514016,0.061010101010101,0.06132435465768798,0.061638608305274956,0.06195286195286194,0.062267115600448925,0.0625813692480359,0.06289562289562288,0.06320987654320986,0.06352413019079685,0.06383838383838383,0.0641526374859708,0.06446689113355779,0.06478114478114477,0.06509539842873174,0.06540965207631873,0.06572390572390571,0.06603815937149268,0.06635241301907967,0.06666666666666665],\"y\":[0.14285714285714285,0.14285714285714285,0.14285714285714285,0.14285714285714285,0.14285714285714285,0.14285714285714285,0.14285714285714285,0.14285714285714285,0.14285714285714285,0.14285714285714285,0.14285714285714285,0.14285714285714285,0.14285714285714285,0.14285714285714285,0.14285714285714285,0.14285714285714285,0.14285714285714285,0.14285714285714285,0.14285714285714285,0.14285714285714285,0.14285714285714285,0.14285714285714285,0.14285714285714285,0.14285714285714285,0.14285714285714285,0.14285714285714285,0.14285714285714285,0.14285714285714285,0.14285714285714285,0.14285714285714285,0.14285714285714285,0.14285714285714285,0.14285714285714285,0.14285714285714285,0.14285714285714285,0.14285714285714285,0.14285714285714285,0.14285714285714285,0.14285714285714285,0.14285714285714285,0.14285714285714285,0.14285714285714285,0.14285714285714285,0.2857142857142857,0.2857142857142857,0.2857142857142857,0.2857142857142857,0.2857142857142857,0.2857142857142857,0.2857142857142857,0.2857142857142857,0.2857142857142857,0.2857142857142857,0.2857142857142857,0.2857142857142857,0.2857142857142857,0.2857142857142857,0.2857142857142857,0.2857142857142857,0.2857142857142857,0.2857142857142857,0.2857142857142857,0.2857142857142857,0.2857142857142857,0.42857142857142855,0.42857142857142855,0.42857142857142855,0.42857142857142855,0.42857142857142855,0.42857142857142855,0.42857142857142855,0.7142857142857143,0.7142857142857143,0.7142857142857143,0.7142857142857143,0.7142857142857143,0.7142857142857143,0.7142857142857143,0.7142857142857143,0.7142857142857143,0.7142857142857143,0.7142857142857143,0.7142857142857143,0.7142857142857143,0.7142857142857143,0.7142857142857143,0.7142857142857143,0.7142857142857143,0.7142857142857143,0.7142857142857143,0.7142857142857143,0.7142857142857143,0.8571428571428571,0.8571428571428571,0.8571428571428571,0.8571428571428571,0.8571428571428571,0.8571428571428571,0.8571428571428571,1.0],\"type\":\"scatter\"}],                        {\"title\":{\"text\":\"Empirical Distribution Function Plot\"},\"xaxis\":{\"title\":{\"text\":\"Objective Value\"}},\"yaxis\":{\"title\":{\"text\":\"Cumulative Probability\"},\"range\":[0,1]},\"template\":{\"data\":{\"bar\":[{\"error_x\":{\"color\":\"#2a3f5f\"},\"error_y\":{\"color\":\"#2a3f5f\"},\"marker\":{\"line\":{\"color\":\"#E5ECF6\",\"width\":0.5},\"pattern\":{\"fillmode\":\"overlay\",\"size\":10,\"solidity\":0.2}},\"type\":\"bar\"}],\"barpolar\":[{\"marker\":{\"line\":{\"color\":\"#E5ECF6\",\"width\":0.5},\"pattern\":{\"fillmode\":\"overlay\",\"size\":10,\"solidity\":0.2}},\"type\":\"barpolar\"}],\"carpet\":[{\"aaxis\":{\"endlinecolor\":\"#2a3f5f\",\"gridcolor\":\"white\",\"linecolor\":\"white\",\"minorgridcolor\":\"white\",\"startlinecolor\":\"#2a3f5f\"},\"baxis\":{\"endlinecolor\":\"#2a3f5f\",\"gridcolor\":\"white\",\"linecolor\":\"white\",\"minorgridcolor\":\"white\",\"startlinecolor\":\"#2a3f5f\"},\"type\":\"carpet\"}],\"choropleth\":[{\"colorbar\":{\"outlinewidth\":0,\"ticks\":\"\"},\"type\":\"choropleth\"}],\"contour\":[{\"colorbar\":{\"outlinewidth\":0,\"ticks\":\"\"},\"colorscale\":[[0.0,\"#0d0887\"],[0.1111111111111111,\"#46039f\"],[0.2222222222222222,\"#7201a8\"],[0.3333333333333333,\"#9c179e\"],[0.4444444444444444,\"#bd3786\"],[0.5555555555555556,\"#d8576b\"],[0.6666666666666666,\"#ed7953\"],[0.7777777777777778,\"#fb9f3a\"],[0.8888888888888888,\"#fdca26\"],[1.0,\"#f0f921\"]],\"type\":\"contour\"}],\"contourcarpet\":[{\"colorbar\":{\"outlinewidth\":0,\"ticks\":\"\"},\"type\":\"contourcarpet\"}],\"heatmap\":[{\"colorbar\":{\"outlinewidth\":0,\"ticks\":\"\"},\"colorscale\":[[0.0,\"#0d0887\"],[0.1111111111111111,\"#46039f\"],[0.2222222222222222,\"#7201a8\"],[0.3333333333333333,\"#9c179e\"],[0.4444444444444444,\"#bd3786\"],[0.5555555555555556,\"#d8576b\"],[0.6666666666666666,\"#ed7953\"],[0.7777777777777778,\"#fb9f3a\"],[0.8888888888888888,\"#fdca26\"],[1.0,\"#f0f921\"]],\"type\":\"heatmap\"}],\"heatmapgl\":[{\"colorbar\":{\"outlinewidth\":0,\"ticks\":\"\"},\"colorscale\":[[0.0,\"#0d0887\"],[0.1111111111111111,\"#46039f\"],[0.2222222222222222,\"#7201a8\"],[0.3333333333333333,\"#9c179e\"],[0.4444444444444444,\"#bd3786\"],[0.5555555555555556,\"#d8576b\"],[0.6666666666666666,\"#ed7953\"],[0.7777777777777778,\"#fb9f3a\"],[0.8888888888888888,\"#fdca26\"],[1.0,\"#f0f921\"]],\"type\":\"heatmapgl\"}],\"histogram\":[{\"marker\":{\"pattern\":{\"fillmode\":\"overlay\",\"size\":10,\"solidity\":0.2}},\"type\":\"histogram\"}],\"histogram2d\":[{\"colorbar\":{\"outlinewidth\":0,\"ticks\":\"\"},\"colorscale\":[[0.0,\"#0d0887\"],[0.1111111111111111,\"#46039f\"],[0.2222222222222222,\"#7201a8\"],[0.3333333333333333,\"#9c179e\"],[0.4444444444444444,\"#bd3786\"],[0.5555555555555556,\"#d8576b\"],[0.6666666666666666,\"#ed7953\"],[0.7777777777777778,\"#fb9f3a\"],[0.8888888888888888,\"#fdca26\"],[1.0,\"#f0f921\"]],\"type\":\"histogram2d\"}],\"histogram2dcontour\":[{\"colorbar\":{\"outlinewidth\":0,\"ticks\":\"\"},\"colorscale\":[[0.0,\"#0d0887\"],[0.1111111111111111,\"#46039f\"],[0.2222222222222222,\"#7201a8\"],[0.3333333333333333,\"#9c179e\"],[0.4444444444444444,\"#bd3786\"],[0.5555555555555556,\"#d8576b\"],[0.6666666666666666,\"#ed7953\"],[0.7777777777777778,\"#fb9f3a\"],[0.8888888888888888,\"#fdca26\"],[1.0,\"#f0f921\"]],\"type\":\"histogram2dcontour\"}],\"mesh3d\":[{\"colorbar\":{\"outlinewidth\":0,\"ticks\":\"\"},\"type\":\"mesh3d\"}],\"parcoords\":[{\"line\":{\"colorbar\":{\"outlinewidth\":0,\"ticks\":\"\"}},\"type\":\"parcoords\"}],\"pie\":[{\"automargin\":true,\"type\":\"pie\"}],\"scatter\":[{\"marker\":{\"colorbar\":{\"outlinewidth\":0,\"ticks\":\"\"}},\"type\":\"scatter\"}],\"scatter3d\":[{\"line\":{\"colorbar\":{\"outlinewidth\":0,\"ticks\":\"\"}},\"marker\":{\"colorbar\":{\"outlinewidth\":0,\"ticks\":\"\"}},\"type\":\"scatter3d\"}],\"scattercarpet\":[{\"marker\":{\"colorbar\":{\"outlinewidth\":0,\"ticks\":\"\"}},\"type\":\"scattercarpet\"}],\"scattergeo\":[{\"marker\":{\"colorbar\":{\"outlinewidth\":0,\"ticks\":\"\"}},\"type\":\"scattergeo\"}],\"scattergl\":[{\"marker\":{\"colorbar\":{\"outlinewidth\":0,\"ticks\":\"\"}},\"type\":\"scattergl\"}],\"scattermapbox\":[{\"marker\":{\"colorbar\":{\"outlinewidth\":0,\"ticks\":\"\"}},\"type\":\"scattermapbox\"}],\"scatterpolar\":[{\"marker\":{\"colorbar\":{\"outlinewidth\":0,\"ticks\":\"\"}},\"type\":\"scatterpolar\"}],\"scatterpolargl\":[{\"marker\":{\"colorbar\":{\"outlinewidth\":0,\"ticks\":\"\"}},\"type\":\"scatterpolargl\"}],\"scatterternary\":[{\"marker\":{\"colorbar\":{\"outlinewidth\":0,\"ticks\":\"\"}},\"type\":\"scatterternary\"}],\"surface\":[{\"colorbar\":{\"outlinewidth\":0,\"ticks\":\"\"},\"colorscale\":[[0.0,\"#0d0887\"],[0.1111111111111111,\"#46039f\"],[0.2222222222222222,\"#7201a8\"],[0.3333333333333333,\"#9c179e\"],[0.4444444444444444,\"#bd3786\"],[0.5555555555555556,\"#d8576b\"],[0.6666666666666666,\"#ed7953\"],[0.7777777777777778,\"#fb9f3a\"],[0.8888888888888888,\"#fdca26\"],[1.0,\"#f0f921\"]],\"type\":\"surface\"}],\"table\":[{\"cells\":{\"fill\":{\"color\":\"#EBF0F8\"},\"line\":{\"color\":\"white\"}},\"header\":{\"fill\":{\"color\":\"#C8D4E3\"},\"line\":{\"color\":\"white\"}},\"type\":\"table\"}]},\"layout\":{\"annotationdefaults\":{\"arrowcolor\":\"#2a3f5f\",\"arrowhead\":0,\"arrowwidth\":1},\"autotypenumbers\":\"strict\",\"coloraxis\":{\"colorbar\":{\"outlinewidth\":0,\"ticks\":\"\"}},\"colorscale\":{\"diverging\":[[0,\"#8e0152\"],[0.1,\"#c51b7d\"],[0.2,\"#de77ae\"],[0.3,\"#f1b6da\"],[0.4,\"#fde0ef\"],[0.5,\"#f7f7f7\"],[0.6,\"#e6f5d0\"],[0.7,\"#b8e186\"],[0.8,\"#7fbc41\"],[0.9,\"#4d9221\"],[1,\"#276419\"]],\"sequential\":[[0.0,\"#0d0887\"],[0.1111111111111111,\"#46039f\"],[0.2222222222222222,\"#7201a8\"],[0.3333333333333333,\"#9c179e\"],[0.4444444444444444,\"#bd3786\"],[0.5555555555555556,\"#d8576b\"],[0.6666666666666666,\"#ed7953\"],[0.7777777777777778,\"#fb9f3a\"],[0.8888888888888888,\"#fdca26\"],[1.0,\"#f0f921\"]],\"sequentialminus\":[[0.0,\"#0d0887\"],[0.1111111111111111,\"#46039f\"],[0.2222222222222222,\"#7201a8\"],[0.3333333333333333,\"#9c179e\"],[0.4444444444444444,\"#bd3786\"],[0.5555555555555556,\"#d8576b\"],[0.6666666666666666,\"#ed7953\"],[0.7777777777777778,\"#fb9f3a\"],[0.8888888888888888,\"#fdca26\"],[1.0,\"#f0f921\"]]},\"colorway\":[\"#636efa\",\"#EF553B\",\"#00cc96\",\"#ab63fa\",\"#FFA15A\",\"#19d3f3\",\"#FF6692\",\"#B6E880\",\"#FF97FF\",\"#FECB52\"],\"font\":{\"color\":\"#2a3f5f\"},\"geo\":{\"bgcolor\":\"white\",\"lakecolor\":\"white\",\"landcolor\":\"#E5ECF6\",\"showlakes\":true,\"showland\":true,\"subunitcolor\":\"white\"},\"hoverlabel\":{\"align\":\"left\"},\"hovermode\":\"closest\",\"mapbox\":{\"style\":\"light\"},\"paper_bgcolor\":\"white\",\"plot_bgcolor\":\"#E5ECF6\",\"polar\":{\"angularaxis\":{\"gridcolor\":\"white\",\"linecolor\":\"white\",\"ticks\":\"\"},\"bgcolor\":\"#E5ECF6\",\"radialaxis\":{\"gridcolor\":\"white\",\"linecolor\":\"white\",\"ticks\":\"\"}},\"scene\":{\"xaxis\":{\"backgroundcolor\":\"#E5ECF6\",\"gridcolor\":\"white\",\"gridwidth\":2,\"linecolor\":\"white\",\"showbackground\":true,\"ticks\":\"\",\"zerolinecolor\":\"white\"},\"yaxis\":{\"backgroundcolor\":\"#E5ECF6\",\"gridcolor\":\"white\",\"gridwidth\":2,\"linecolor\":\"white\",\"showbackground\":true,\"ticks\":\"\",\"zerolinecolor\":\"white\"},\"zaxis\":{\"backgroundcolor\":\"#E5ECF6\",\"gridcolor\":\"white\",\"gridwidth\":2,\"linecolor\":\"white\",\"showbackground\":true,\"ticks\":\"\",\"zerolinecolor\":\"white\"}},\"shapedefaults\":{\"line\":{\"color\":\"#2a3f5f\"}},\"ternary\":{\"aaxis\":{\"gridcolor\":\"white\",\"linecolor\":\"white\",\"ticks\":\"\"},\"baxis\":{\"gridcolor\":\"white\",\"linecolor\":\"white\",\"ticks\":\"\"},\"bgcolor\":\"#E5ECF6\",\"caxis\":{\"gridcolor\":\"white\",\"linecolor\":\"white\",\"ticks\":\"\"}},\"title\":{\"x\":0.05},\"xaxis\":{\"automargin\":true,\"gridcolor\":\"white\",\"linecolor\":\"white\",\"ticks\":\"\",\"title\":{\"standoff\":15},\"zerolinecolor\":\"white\",\"zerolinewidth\":2},\"yaxis\":{\"automargin\":true,\"gridcolor\":\"white\",\"linecolor\":\"white\",\"ticks\":\"\",\"title\":{\"standoff\":15},\"zerolinecolor\":\"white\",\"zerolinewidth\":2}}}},                        {\"responsive\": true}                    ).then(function(){\n",
              "                            \n",
              "var gd = document.getElementById('e381eb89-6d5d-48d5-9a59-f300d1fb443d');\n",
              "var x = new MutationObserver(function (mutations, observer) {{\n",
              "        var display = window.getComputedStyle(gd).display;\n",
              "        if (!display || display === 'none') {{\n",
              "            console.log([gd, 'removed!']);\n",
              "            Plotly.purge(gd);\n",
              "            observer.disconnect();\n",
              "        }}\n",
              "}});\n",
              "\n",
              "// Listen for the removal of the full notebook cells\n",
              "var notebookContainer = gd.closest('#notebook-container');\n",
              "if (notebookContainer) {{\n",
              "    x.observe(notebookContainer, {childList: true});\n",
              "}}\n",
              "\n",
              "// Listen for the clearing of the current output cell\n",
              "var outputEl = gd.closest('.output');\n",
              "if (outputEl) {{\n",
              "    x.observe(outputEl, {childList: true});\n",
              "}}\n",
              "\n",
              "                        })                };                            </script>        </div>\n",
              "</body>\n",
              "</html>"
            ]
          },
          "metadata": {}
        }
      ]
    }
  ]
}